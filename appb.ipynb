{
  "cells": [
    {
      "cell_type": "markdown",
      "metadata": {
        "id": "k1y_qxBByOUU"
      },
      "source": [
        "# Вступ до мови програмування Python"
      ]
    },
    {
      "cell_type": "markdown",
      "metadata": {
        "id": "gVRqIeDmyOUW"
      },
      "source": [
        "## Коментарі коду\n",
        "\n",
        "Коментар --- це примітка, зроблена програмістом у вихідному коді програми. Його мета --- прояснити вихідний код і полегшити відстеження того, що відбувається. Все, що міститься в коментарі, зазвичай ігнорується при фактичному запуску коду, але робить коментарі корисними для включення пояснень і міркувань, а також для видалення певних рядків коду, в яких ви можете бути не впевнені. Коментарі в Python створюються за допомогою символу решітки (`# вставити текст тут`). Включення `#` у рядок коду коментує все, що слідує за ним."
      ]
    },
    {
      "cell_type": "code",
      "execution_count": null,
      "metadata": {
        "id": "6c7VPQhVyOUW"
      },
      "outputs": [],
      "source": [
        "# print(\"Привіт усім\")\n",
        "# Це коментар\n",
        "# Ці рядки коду не змінять жодних значень\n",
        "# все, що слідує за першим #, не виконується як код"
      ]
    },
    {
      "cell_type": "markdown",
      "metadata": {
        "id": "8lxYY7qfyOUX"
      },
      "source": [
        "Ви можете побачити текст, укладений у потрійні лапки (`\"\"\" вставте текст тут \"\"\"`). Такий синтаксис представлятиме багаторядкове коментування, але це не зовсім точно. Це особливий тип `string`, що називається` docstring` і використовується для пояснення призначення функції."
      ]
    },
    {
      "cell_type": "code",
      "execution_count": null,
      "metadata": {
        "id": "WBrhjZ_2yOUX",
        "outputId": "e1e0f125-48ef-4da7-f915-fd9c08e1d589"
      },
      "outputs": [
        {
          "data": {
            "text/plain": [
              "' This is a special string '"
            ]
          },
          "execution_count": 27,
          "metadata": {},
          "output_type": "execute_result"
        }
      ],
      "source": [
        "\"\"\" This is a special string \"\"\""
      ]
    },
    {
      "cell_type": "markdown",
      "metadata": {
        "id": "h433y4TKyOUX"
      },
      "source": [
        "## Змінна\n",
        "\n",
        "Змінні надають імена для значень. Якщо ви хочете зберегти значення для подальшого або повторного використання, ви присвоюєте значенню ім'я, зберігаючи вміст у змінній. Змінні в програмуванні працюють аналогічно змінним в алгебрі, але в Python вони можуть приймати різні типи даних.\n",
        "\n",
        "Основними типами змінних, які ми розглянемо в цьому розділі, є `цілі числа`, `числа з плаваючою комою`, `логічні значення` та `рядки`.\n",
        "\n",
        "`Ціле число` у програмуванні --- це те саме, що і в математиці, число без значень після десяткової коми. Ми використовуємо вбудовану функцію `print()` тут для відображення значень наших змінних, а також їх типів!"
      ]
    },
    {
      "cell_type": "code",
      "execution_count": null,
      "metadata": {
        "id": "AlNQyorEyOUY",
        "outputId": "f8f03598-bb63-4b02-a366-027ad7045b03"
      },
      "outputs": [
        {
          "name": "stdout",
          "output_type": "stream",
          "text": [
            "50 <class 'int'>\n"
          ]
        }
      ],
      "source": [
        "my_integer = 50\n",
        "print(my_integer, type(my_integer))"
      ]
    },
    {
      "cell_type": "markdown",
      "metadata": {
        "id": "2l5SmtFqyOUY"
      },
      "source": [
        "Змінні, незалежно від типу, призначаються за допомогою знака рівності (`=`). Змінні чутливі до регістру, тому будь-які зміни в заголовних літерах імені змінної будуть посилатися на іншу змінну."
      ]
    },
    {
      "cell_type": "code",
      "execution_count": null,
      "metadata": {
        "id": "8P2uOPyRyOUY",
        "outputId": "1a32d9db-320b-4998-aff5-bcaa5faa2602"
      },
      "outputs": [
        {
          "name": "stdout",
          "output_type": "stream",
          "text": [
            "1\n"
          ]
        }
      ],
      "source": [
        "one = 1\n",
        "print(one)"
      ]
    },
    {
      "cell_type": "markdown",
      "metadata": {
        "id": "UUmUCCdPyOUY"
      },
      "source": [
        "Число з плаваючою комою або `float` --- це назва дійсного числа (знову ж таки, як у математиці). Щоб визначити `float`, нам потрібно або включити десяткову крапку, або вказати, що значення є `float`."
      ]
    },
    {
      "cell_type": "code",
      "execution_count": null,
      "metadata": {
        "id": "Kv5bFeAKyOUZ",
        "outputId": "2d2ab5b0-96f0-4a27-9182-c6a579b486ed",
        "scrolled": true
      },
      "outputs": [
        {
          "name": "stdout",
          "output_type": "stream",
          "text": [
            "1.0 <class 'float'>\n",
            "1.0 <class 'float'>\n"
          ]
        }
      ],
      "source": [
        "my_float = 1.0\n",
        "print(my_float, type(my_float))\n",
        "my_float = float(1)\n",
        "print(my_float, type(my_float))"
      ]
    },
    {
      "cell_type": "markdown",
      "metadata": {
        "id": "UsUNS9_yyOUZ"
      },
      "source": [
        "Змінна типу `float` не округлятиме число, яке ви в ній зберігаєте, тоді як змінна типу `integer` округлятиме. Це робить `floats` більш придатними для математичних обчислень, де потрібно більше, ніж просто цілі числа.\n",
        "\n",
        "Зверніть увагу, що оскільки ми використовували функцію `float()`, щоб змусити число рахуватися `float`, ми можемо використовувати функцію `int()`, щоб змусити число представлятися в типі `int`."
      ]
    },
    {
      "cell_type": "code",
      "execution_count": null,
      "metadata": {
        "id": "dlqjvzzcyOUZ",
        "outputId": "ab28ab68-ddcd-4c3c-f619-cbf54fcb3b60"
      },
      "outputs": [
        {
          "name": "stdout",
          "output_type": "stream",
          "text": [
            "3 <class 'int'>\n"
          ]
        }
      ],
      "source": [
        "my_int = int(3.14159)\n",
        "print(my_int, type(my_int))"
      ]
    },
    {
      "cell_type": "markdown",
      "metadata": {
        "id": "9d4bcqFyyOUZ"
      },
      "source": [
        "Функція `int()` також усіче будь-які цифри, які число може містити після десяткової коми!\n",
        "\n",
        "Рядки дозволяють включати текст як змінну для роботи. Вони визначаються з використанням або одинарних лапок (''), або подвійних лапок (\"\")."
      ]
    },
    {
      "cell_type": "code",
      "execution_count": null,
      "metadata": {
        "id": "1G0EjSuUyOUZ",
        "outputId": "2dd01bce-9294-4d0a-98c0-1ec7404d25bd"
      },
      "outputs": [
        {
          "name": "stdout",
          "output_type": "stream",
          "text": [
            "This is a string with single quotes\n",
            "This is a string with double quotes\n"
          ]
        }
      ],
      "source": [
        "my_string = 'This is a string with single quotes'\n",
        "print(my_string)\n",
        "my_string = \"This is a string with double quotes\"\n",
        "print(my_string)"
      ]
    },
    {
      "cell_type": "markdown",
      "metadata": {
        "id": "Jalc1Kh_yOUZ"
      },
      "source": [
        "Обидва варіанти дозволені, так що ми можемо включити апострофи або лапки в рядок, якщо ми того побажаємо."
      ]
    },
    {
      "cell_type": "code",
      "execution_count": null,
      "metadata": {
        "id": "Q0BsOjaOyOUa",
        "outputId": "23cbdeac-c17d-4034-b19e-c01c1e2a29c2"
      },
      "outputs": [
        {
          "name": "stdout",
          "output_type": "stream",
          "text": [
            "\"Jabberwocky\", by Lewis Carroll\n",
            "'Twas brillig, and the slithy toves / Did gyre and gimble in the wabe;\n"
          ]
        }
      ],
      "source": [
        "my_string = '\"Jabberwocky\", by Lewis Carroll'\n",
        "print(my_string)\n",
        "my_string = \"'Twas brillig, and the slithy toves / Did gyre and gimble in the wabe;\"\n",
        "print(my_string)"
      ]
    },
    {
      "cell_type": "markdown",
      "metadata": {
        "id": "v9qO1sjQyOUa"
      },
      "source": [
        "Логічні значення, або `bools`, - це двійкові типи змінних. `bool` може приймати лише одне з двох значень, це `True` або `False`. У цій ідеї істинних значень є набагато більше, коли мова заходить про програмування, про що ми розповімо пізніше в розділі [Логічні оператори](#id-section5) цього зошита."
      ]
    },
    {
      "cell_type": "code",
      "execution_count": null,
      "metadata": {
        "id": "4vCltdQUyOUa",
        "outputId": "a8b5dff5-d95b-4054-ac1f-af2db601aa83"
      },
      "outputs": [
        {
          "name": "stdout",
          "output_type": "stream",
          "text": [
            "True <class 'bool'>\n"
          ]
        }
      ],
      "source": [
        "my_bool = True\n",
        "print(my_bool, type(my_bool))"
      ]
    },
    {
      "cell_type": "markdown",
      "metadata": {
        "id": "EwyyTnheyOUa"
      },
      "source": [
        "Існує ще багато типів даних, які ви можете призначити змінними в Python, але це основні з них!"
      ]
    },
    {
      "cell_type": "markdown",
      "metadata": {
        "id": "CArz5n7fyOUa"
      },
      "source": [
        "## Базова математика\n",
        "\n",
        "Python має ряд вбудованих математичних функцій. Їх можна ще більше розширити, імпортуючи пакет **math** або включивши будь-яку кількість інших обчислювальних пакетів.\n",
        "\n",
        "Підтримуються всі основні арифметичні операції: `+`, `-`, `/`, і `*`. Ви можете створювати експоненти за допомогою `**`, а модульна арифметика вводиться за допомогою оператора mod, `%`."
      ]
    },
    {
      "cell_type": "code",
      "execution_count": null,
      "metadata": {
        "id": "coognYxnyOUa",
        "outputId": "f5bd91e4-3b84-4d85-b227-6561c4a39db1"
      },
      "outputs": [
        {
          "name": "stdout",
          "output_type": "stream",
          "text": [
            "Addition:  4\n",
            "Subtraction:  3\n",
            "Multiplication:  10\n",
            "Division:  5.0\n",
            "Exponentiation:  9\n"
          ]
        }
      ],
      "source": [
        "print('Addition: ', 2 + 2)\n",
        "print('Subtraction: ', 7 - 4)\n",
        "print('Multiplication: ', 2 * 5)\n",
        "print('Division: ', 10 / 2)\n",
        "print('Exponentiation: ', 3**2)"
      ]
    },
    {
      "cell_type": "markdown",
      "metadata": {
        "id": "RG7Bo0qjyOUb"
      },
      "source": [
        "Якщо ви не знайомі з оператором mod, він працює як функція залишку. Якщо ми введемо $15 \\ \\% \\  4$, він поверне залишок після ділення $15$ на $4$."
      ]
    },
    {
      "cell_type": "code",
      "execution_count": null,
      "metadata": {
        "id": "U5cI48HsyOUb",
        "outputId": "c02895c6-40df-4720-c2ee-5f92f4fb0c69"
      },
      "outputs": [
        {
          "name": "stdout",
          "output_type": "stream",
          "text": [
            "Частка:  3\n"
          ]
        }
      ],
      "source": [
        "print('Частка: ', 15 % 4)"
      ]
    },
    {
      "cell_type": "markdown",
      "metadata": {
        "id": "SyBc_1aIyOUb"
      },
      "source": [
        "Математичні функції також працюють зі змінними!"
      ]
    },
    {
      "cell_type": "code",
      "execution_count": null,
      "metadata": {
        "id": "lti0b2ZXyOUb",
        "outputId": "41249be1-3e2e-4038-f504-14121ec0ac33",
        "scrolled": true
      },
      "outputs": [
        {
          "name": "stdout",
          "output_type": "stream",
          "text": [
            "20\n"
          ]
        }
      ],
      "source": [
        "first_integer = 4\n",
        "second_integer = 5\n",
        "print(first_integer * second_integer)"
      ]
    },
    {
      "cell_type": "markdown",
      "metadata": {
        "id": "0cCtFMYfyOUb"
      },
      "source": [
        "Якщо ви виконуєте математику виключно з цілими числами, ви отримуєте ціле число. Включення будь-якого значення з плаваючою точкою в обчислення зробить уже результат із плаваючою точкою."
      ]
    },
    {
      "cell_type": "code",
      "execution_count": null,
      "metadata": {
        "id": "_-pbVQYxyOUb",
        "outputId": "3727ccc5-5061-4a22-9b6b-c489871623c2"
      },
      "outputs": [
        {
          "name": "stdout",
          "output_type": "stream",
          "text": [
            "3.6666666666666665\n"
          ]
        }
      ],
      "source": [
        "first_integer = 11\n",
        "second_integer = 3\n",
        "print(first_integer / second_integer)"
      ]
    },
    {
      "cell_type": "code",
      "execution_count": null,
      "metadata": {
        "id": "lM0W_b9tyOUb",
        "outputId": "17c680f5-6054-4d81-b655-a8e5a83ca583"
      },
      "outputs": [
        {
          "name": "stdout",
          "output_type": "stream",
          "text": [
            "3.6666666666666665\n"
          ]
        }
      ],
      "source": [
        "first_number = 11.0\n",
        "second_number = 3.0\n",
        "print(first_number / second_number)"
      ]
    },
    {
      "cell_type": "markdown",
      "metadata": {
        "id": "-CN5ovLsyOUc"
      },
      "source": [
        "Python має кілька вбудованих математичних функцій. Найбільш помітними з них є:\n",
        "\n",
        "* `abs()`\n",
        "* `round()`\n",
        "* `max()`\n",
        "* `min()`\n",
        "* `sum()`\n",
        "\n",
        "Усі ці функції діють так, як ви очікували, враховуючи їх назви. Виклик `abs()` для числа поверне його абсолютне значення. Функція `round()` округлить число до вказаної кількості десяткових знаків (значення за замовчуванням дорівнює $0$). Виклик `max()` або `min()` для набору чисел поверне, відповідно, максимальне або мінімальне значення в наборі. Виклик `sum()` для набору чисел призведе до їх підсумовування. Якщо ви не знайомі з тим, як працюють колекції значень у Python, не хвилюйтеся! Ми детально розглянемо набір в наступному розділі.\n",
        "\n",
        "Додаткові математичні функції можуть бути додані разом з пакетом `math`."
      ]
    },
    {
      "cell_type": "code",
      "execution_count": null,
      "metadata": {
        "id": "GaTF5lb2yOUc"
      },
      "outputs": [],
      "source": [
        "import math"
      ]
    },
    {
      "cell_type": "markdown",
      "metadata": {
        "id": "ytL3QEaryOUc"
      },
      "source": [
        "Математична бібліотека додає довгий список нових математичних функцій до Python. Не соромтеся ознайомитися з [документацією](https://docs.python.org/3/library/math.html) для отримання повного списку та деталей. У ній ви знайдете деякі математичні константи."
      ]
    },
    {
      "cell_type": "code",
      "execution_count": null,
      "metadata": {
        "id": "AROlYdgvyOUc",
        "outputId": "c45acd3b-99d1-4e19-b666-b1b6e5fb52c3"
      },
      "outputs": [
        {
          "name": "stdout",
          "output_type": "stream",
          "text": [
            "Pi:  3.141592653589793\n",
            "Euler's Constant:  2.718281828459045\n"
          ]
        }
      ],
      "source": [
        "print('Pi: ', math.pi)\n",
        "print(\"Euler's Constant: \", math.e)"
      ]
    },
    {
      "cell_type": "markdown",
      "metadata": {
        "id": "-OR4MXReyOUc"
      },
      "source": [
        "А також деякі часто використовувані математичні функції"
      ]
    },
    {
      "cell_type": "code",
      "execution_count": null,
      "metadata": {
        "id": "08pVpqXzyOUc",
        "outputId": "a10b62dc-eb54-447f-c4d3-f10fb089b3f7"
      },
      "outputs": [
        {
          "name": "stdout",
          "output_type": "stream",
          "text": [
            "Cosine of pi:  -1.0\n"
          ]
        }
      ],
      "source": [
        "print('Cosine of pi: ', math.cos(math.pi))"
      ]
    },
    {
      "cell_type": "markdown",
      "metadata": {
        "id": "4KWWl0pxyOUc"
      },
      "source": [
        "## Колекції\n",
        "### Списки (lists)\n",
        "\n",
        "`Список` у Python - це впорядкована колекція об'єктів, яка може містити будь-який тип даних. Ми визначаємо `список`, використовуючи квадратні дужки (`[]`)."
      ]
    },
    {
      "cell_type": "code",
      "execution_count": null,
      "metadata": {
        "id": "t9w9g9-ryOUc",
        "outputId": "5f7253c9-ffc2-4a5c-e6eb-feb227bd5b0c"
      },
      "outputs": [
        {
          "name": "stdout",
          "output_type": "stream",
          "text": [
            "[1, 2, 3]\n"
          ]
        }
      ],
      "source": [
        "my_list = [1, 2, 3]\n",
        "print(my_list)"
      ]
    },
    {
      "cell_type": "markdown",
      "metadata": {
        "id": "gDu4E5PAyOUd"
      },
      "source": [
        "Ми також можемо отримати доступ до списку та проіндексувати його за допомогою дужок. Щоб вибрати окремий елемент, просто введіть назву списку, а потім індекс елемента, який ви шукаєте, у фігурних дужках."
      ]
    },
    {
      "cell_type": "code",
      "execution_count": null,
      "metadata": {
        "id": "gBWOCNXhyOUh",
        "outputId": "bf617f1a-9d51-40ad-f8bc-ab2de81ecfe4"
      },
      "outputs": [
        {
          "name": "stdout",
          "output_type": "stream",
          "text": [
            "1\n",
            "3\n"
          ]
        }
      ],
      "source": [
        "print(my_list[0])\n",
        "print(my_list[2])"
      ]
    },
    {
      "cell_type": "markdown",
      "metadata": {
        "id": "f9dDQmcFyOUi"
      },
      "source": [
        "Індексація в Python починається з $ 0$. Якщо у вас є список довжиною $n$, перший елемент списку знаходиться з індексом $0$, другий елемент з індексом $1$, і так далі, і тому подібне. Останній елемент списку матиме індекс $n-1$. Будьте обережні! Спроба отримати доступ до неіснуючого індексу призведе до помилки."
      ]
    },
    {
      "cell_type": "code",
      "execution_count": null,
      "metadata": {
        "id": "J3I8J35PyOUi",
        "outputId": "b8dacfcf-976b-4c0d-e182-96287ea1ace0"
      },
      "outputs": [
        {
          "name": "stdout",
          "output_type": "stream",
          "text": [
            "The first, second, and third list elements:  1 2 3\n"
          ]
        },
        {
          "ename": "IndexError",
          "evalue": "list index out of range",
          "output_type": "error",
          "traceback": [
            "\u001b[0;31m---------------------------------------------------------------------------\u001b[0m",
            "\u001b[0;31mIndexError\u001b[0m                                Traceback (most recent call last)",
            "Input \u001b[0;32mIn [19]\u001b[0m, in \u001b[0;36m<cell line: 2>\u001b[0;34m()\u001b[0m\n\u001b[1;32m      1\u001b[0m \u001b[38;5;28mprint\u001b[39m(\u001b[38;5;124m'\u001b[39m\u001b[38;5;124mThe first, second, and third list elements: \u001b[39m\u001b[38;5;124m'\u001b[39m, my_list[\u001b[38;5;241m0\u001b[39m], my_list[\u001b[38;5;241m1\u001b[39m], my_list[\u001b[38;5;241m2\u001b[39m])\n\u001b[0;32m----> 2\u001b[0m \u001b[38;5;28mprint\u001b[39m(\u001b[38;5;124m'\u001b[39m\u001b[38;5;124mAccessing outside the list bounds causes an error: \u001b[39m\u001b[38;5;124m'\u001b[39m, \u001b[43mmy_list\u001b[49m\u001b[43m[\u001b[49m\u001b[38;5;241;43m3\u001b[39;49m\u001b[43m]\u001b[49m)\n",
            "\u001b[0;31mIndexError\u001b[0m: list index out of range"
          ]
        }
      ],
      "source": [
        "print('The first, second, and third list elements: ', my_list[0], my_list[1], my_list[2])\n",
        "print('Accessing outside the list bounds causes an error: ', my_list[3])"
      ]
    },
    {
      "cell_type": "markdown",
      "metadata": {
        "id": "9mefYP7ZyOUi"
      },
      "source": [
        "Ми можемо побачити кількість елементів у списку, викликавши функцію `len()`."
      ]
    },
    {
      "cell_type": "code",
      "execution_count": null,
      "metadata": {
        "id": "XTbBc5mcyOUi",
        "outputId": "9ee84260-dada-4fce-dd10-29b7ed0fdb8e"
      },
      "outputs": [
        {
          "name": "stdout",
          "output_type": "stream",
          "text": [
            "3\n"
          ]
        }
      ],
      "source": [
        "print(len(my_list))"
      ]
    },
    {
      "cell_type": "markdown",
      "metadata": {
        "id": "rwgpz4BfyOUi"
      },
      "source": [
        "Ми можемо оновлювати та змінювати список, отримуючи доступ до індексу та призначаючи нове значення."
      ]
    },
    {
      "cell_type": "code",
      "execution_count": null,
      "metadata": {
        "id": "Q-6bGIJXyOUi",
        "outputId": "f26703ad-e2bf-4fe4-e2e8-6638e626fadb"
      },
      "outputs": [
        {
          "name": "stdout",
          "output_type": "stream",
          "text": [
            "[1, 2, 3]\n",
            "[42, 2, 3]\n"
          ]
        }
      ],
      "source": [
        "print(my_list)\n",
        "my_list[0] = 42\n",
        "print(my_list)"
      ]
    },
    {
      "cell_type": "markdown",
      "metadata": {
        "id": "yGlJMwEDyOUj"
      },
      "source": [
        "Це принципово відрізняється від того, як обробляються рядки. `Список` є змінним, ви можете змінювати елементи `списку` без зміни самого списку. Деякі типи даних, такі як `рядки`, є незмінними. Як тільки `рядок` або інший незмінний тип даних був створений, він не може бути безпосередньо змінений без створення абсолютно нового об'єкта."
      ]
    },
    {
      "cell_type": "code",
      "execution_count": null,
      "metadata": {
        "id": "-KXRKjt1yOUj",
        "outputId": "c3932a37-7f59-460b-9330-812eef11366a"
      },
      "outputs": [
        {
          "ename": "TypeError",
          "evalue": "'str' object does not support item assignment",
          "output_type": "error",
          "traceback": [
            "\u001b[0;31m---------------------------------------------------------------------------\u001b[0m",
            "\u001b[0;31mTypeError\u001b[0m                                 Traceback (most recent call last)",
            "Input \u001b[0;32mIn [28]\u001b[0m, in \u001b[0;36m<cell line: 2>\u001b[0;34m()\u001b[0m\n\u001b[1;32m      1\u001b[0m my_string \u001b[38;5;241m=\u001b[39m \u001b[38;5;124m\"\u001b[39m\u001b[38;5;124mStrings never change\u001b[39m\u001b[38;5;124m\"\u001b[39m\n\u001b[0;32m----> 2\u001b[0m my_string[\u001b[38;5;241m0\u001b[39m] \u001b[38;5;241m=\u001b[39m \u001b[38;5;124m'\u001b[39m\u001b[38;5;124mZ\u001b[39m\u001b[38;5;124m'\u001b[39m\n",
            "\u001b[0;31mTypeError\u001b[0m: 'str' object does not support item assignment"
          ]
        }
      ],
      "source": [
        "my_string = \"Strings never change\"\n",
        "my_string[0] = 'Z'"
      ]
    },
    {
      "cell_type": "markdown",
      "metadata": {
        "id": "mOg5fTmKyOUj"
      },
      "source": [
        "Як ми вже говорили раніше, список може містити будь-який тип даних. Таким чином, списки також можуть містити рядки."
      ]
    },
    {
      "cell_type": "code",
      "execution_count": null,
      "metadata": {
        "id": "QGmFCzWdyOUj",
        "outputId": "43c3f982-964b-46ba-807d-6a27ed29fe59"
      },
      "outputs": [
        {
          "name": "stdout",
          "output_type": "stream",
          "text": [
            "['one', 'two', 'three']\n"
          ]
        }
      ],
      "source": [
        "my_list_2 = ['one', 'two', 'three']\n",
        "print(my_list_2)"
      ]
    },
    {
      "cell_type": "markdown",
      "metadata": {
        "id": "8ZLoIAFEyOUj"
      },
      "source": [
        "Списки також можуть містити кілька різних типів даних одночасно!"
      ]
    },
    {
      "cell_type": "code",
      "execution_count": null,
      "metadata": {
        "id": "K7oumCuzyOUj"
      },
      "outputs": [],
      "source": [
        "my_list_3 = [True, 'False', 42]"
      ]
    },
    {
      "cell_type": "markdown",
      "metadata": {
        "id": "a3K-47SjyOUk"
      },
      "source": [
        "Якщо ви хочете об'єднати два списки, їх можна об'єднати символом `+`."
      ]
    },
    {
      "cell_type": "code",
      "execution_count": null,
      "metadata": {
        "id": "KWbmXUkpyOUk",
        "outputId": "def817d3-f2fe-43d5-b079-6661e4cd279f"
      },
      "outputs": [
        {
          "name": "stdout",
          "output_type": "stream",
          "text": [
            "[42, 2, 3, 'one', 'two', 'three', True, 'False', 42]\n"
          ]
        }
      ],
      "source": [
        "my_list_4 = my_list + my_list_2 + my_list_3\n",
        "print(my_list_4)"
      ]
    },
    {
      "cell_type": "markdown",
      "metadata": {
        "id": "yqFtVd6oyOUk"
      },
      "source": [
        "Окрім доступу до окремих елементів списку ми можемо отримати доступ до груп елементів за допомогою зрізу."
      ]
    },
    {
      "cell_type": "code",
      "execution_count": null,
      "metadata": {
        "id": "ytPuNVy7yOUk"
      },
      "outputs": [],
      "source": [
        "my_list = ['friends', 'romans', 'countrymen', 'lend', 'me', 'your', 'ears']"
      ]
    },
    {
      "cell_type": "markdown",
      "metadata": {
        "id": "zVHMgp9oyOUk"
      },
      "source": [
        "#### Зріз (slicing)\n",
        "\n",
        "Ми використовуємо двокрапку (`:`) для нарізки списків."
      ]
    },
    {
      "cell_type": "code",
      "execution_count": null,
      "metadata": {
        "id": "2bDn0fK3yOUk",
        "outputId": "2754922b-aef3-4662-cb2b-f9bdd3ab8adb",
        "scrolled": true
      },
      "outputs": [
        {
          "name": "stdout",
          "output_type": "stream",
          "text": [
            "['countrymen', 'lend']\n"
          ]
        }
      ],
      "source": [
        "print(my_list[2:4])"
      ]
    },
    {
      "cell_type": "markdown",
      "metadata": {
        "id": "rbFLaIL0yOUl"
      },
      "source": [
        "Використовуючи `:`, ми можемо вибрати групу елементів у списку, починаючи з першого вказаного елемента і закінчуючи (але не включаючи) останнім зазначеним елементом.\n",
        "\n",
        "Ми також можемо вибрати все після певного значення"
      ]
    },
    {
      "cell_type": "code",
      "execution_count": null,
      "metadata": {
        "id": "FG5yerJAyOUl",
        "outputId": "eee25be3-52f7-4deb-82bc-b53ab1b5d095",
        "scrolled": true
      },
      "outputs": [
        {
          "name": "stdout",
          "output_type": "stream",
          "text": [
            "['romans', 'countrymen', 'lend', 'me', 'your', 'ears']\n"
          ]
        }
      ],
      "source": [
        "print(my_list[1:])"
      ]
    },
    {
      "cell_type": "markdown",
      "metadata": {
        "id": "cz0IcUEWyOUl"
      },
      "source": [
        "І все перед конкретним значенням"
      ]
    },
    {
      "cell_type": "code",
      "execution_count": null,
      "metadata": {
        "id": "lIjybxt7yOUl",
        "outputId": "9811ad81-b0d1-4270-8180-2d867b54cedb",
        "scrolled": true
      },
      "outputs": [
        {
          "name": "stdout",
          "output_type": "stream",
          "text": [
            "['friends', 'romans', 'countrymen', 'lend']\n"
          ]
        }
      ],
      "source": [
        "print(my_list[:4])"
      ]
    },
    {
      "cell_type": "markdown",
      "metadata": {
        "id": "7TphIU0cyOUl"
      },
      "source": [
        "Використання негативних чисел буде відлічуватися з кінця індексів, а не з початку. Наприклад, індекс `-1` вказує на останній елемент списку."
      ]
    },
    {
      "cell_type": "code",
      "execution_count": null,
      "metadata": {
        "id": "oK_0unOnyOUl",
        "outputId": "91a2722a-2eb7-4f41-c0d6-b54c78eaee38"
      },
      "outputs": [
        {
          "name": "stdout",
          "output_type": "stream",
          "text": [
            "ears\n"
          ]
        }
      ],
      "source": [
        "print(my_list[-1])"
      ]
    },
    {
      "cell_type": "markdown",
      "metadata": {
        "id": "bJUnJweTyOUm"
      },
      "source": [
        "Ви також можете додати третій компонент для нарізки. Замість того, щоб просто вказати першу та кінцеву частини вашого зрізу, ви можете вказати розмір кроку, який ви хочете зробити. Таким чином, замість того, щоб брати кожен окремий елемент, ви можете взяти будь-який інший елемент."
      ]
    },
    {
      "cell_type": "code",
      "execution_count": null,
      "metadata": {
        "id": "lhU5Z2vuyOUm",
        "outputId": "09bf680c-40b2-4629-e743-7f7df5357734"
      },
      "outputs": [
        {
          "name": "stdout",
          "output_type": "stream",
          "text": [
            "['friends', 'countrymen', 'me', 'ears']\n"
          ]
        }
      ],
      "source": [
        "print(my_list[0:7:2])"
      ]
    },
    {
      "cell_type": "markdown",
      "metadata": {
        "id": "3wtMwYmbyOUm"
      },
      "source": [
        "Тут ми вибрали весь список (оскільки `0:7` дасть елементи від `0` до `6`), і ми вибрали розмір кроку `2`. Отже, це виведе елемент `0`, елемент `2`, елемент `4` тощо на вибраний елемент списку. Ми можемо пропустити вказаний початок і кінець нашого фрагмента, вказавши лише крок."
      ]
    },
    {
      "cell_type": "code",
      "execution_count": null,
      "metadata": {
        "id": "VNtkVm7gyOUm",
        "outputId": "c91744a6-5936-44ef-bff6-59cdcae8ec3a"
      },
      "outputs": [
        {
          "name": "stdout",
          "output_type": "stream",
          "text": [
            "['friends', 'countrymen', 'me', 'ears']\n"
          ]
        }
      ],
      "source": [
        "print(my_list[::2])"
      ]
    },
    {
      "cell_type": "markdown",
      "metadata": {
        "id": "4B1c1yzsyOUm"
      },
      "source": [
        "Списки неявно вибирають початок і кінець списку, якщо не вказано інше."
      ]
    },
    {
      "cell_type": "code",
      "execution_count": null,
      "metadata": {
        "id": "LebcSeDoyOUm",
        "outputId": "20403527-8364-4bf6-d77d-4eff5b4332f9"
      },
      "outputs": [
        {
          "name": "stdout",
          "output_type": "stream",
          "text": [
            "['friends', 'romans', 'countrymen', 'lend', 'me', 'your', 'ears']\n"
          ]
        }
      ],
      "source": [
        "print(my_list[:])"
      ]
    },
    {
      "cell_type": "markdown",
      "metadata": {
        "id": "oZadpWDNyOUm"
      },
      "source": [
        "При негативному розмірі кроку ми можемо навіть перевернути список!"
      ]
    },
    {
      "cell_type": "code",
      "execution_count": null,
      "metadata": {
        "id": "TJrk0WFDyOUn",
        "outputId": "92d3ae25-8709-42cf-d6c1-3c49d764643b"
      },
      "outputs": [
        {
          "name": "stdout",
          "output_type": "stream",
          "text": [
            "['ears', 'your', 'me', 'lend', 'countrymen', 'romans', 'friends']\n"
          ]
        }
      ],
      "source": [
        "print(my_list[::-1])"
      ]
    },
    {
      "cell_type": "markdown",
      "metadata": {
        "id": "kniJKZndyOUn"
      },
      "source": [
        "Python не має власних матриць. Інші пакети, такі як `numpy`, додають матриці як окремий тип даних, але в базовому Python найкращим способом створення матриці є використання списку списків."
      ]
    },
    {
      "cell_type": "markdown",
      "metadata": {
        "id": "c41HhnnOyOUn"
      },
      "source": [
        "Ми також можемо використовувати вбудовані функції для створення списків. Зокрема, ми розглянемо `range()` (тому що ми будемо використовувати його пізніше!). Діапазон може приймати кілька різних вхідних даних і поверне список."
      ]
    },
    {
      "cell_type": "code",
      "execution_count": null,
      "metadata": {
        "id": "Jhp1ZOZ-yOUn",
        "outputId": "b8239538-94a3-4f74-ebea-cbb9b7021e94"
      },
      "outputs": [
        {
          "name": "stdout",
          "output_type": "stream",
          "text": [
            "range(0, 10)\n"
          ]
        }
      ],
      "source": [
        "b = 10\n",
        "my_list = range(b)\n",
        "print(my_list)"
      ]
    },
    {
      "cell_type": "markdown",
      "metadata": {
        "id": "DEsqzbjbyOUn"
      },
      "source": [
        "Подібно до наших попередніх методів нарізки списків, ми можемо визначити як початок, так і кінець нашого діапазону. Це поверне список, який включає початок і виключає кінець, точно так само, як зріз."
      ]
    },
    {
      "cell_type": "code",
      "execution_count": null,
      "metadata": {
        "id": "RbRk6_tnyOUo",
        "outputId": "b8eef8a0-1bac-4fb4-a97e-1a2d2a5a3394"
      },
      "outputs": [
        {
          "name": "stdout",
          "output_type": "stream",
          "text": [
            "range(0, 10)\n"
          ]
        }
      ],
      "source": [
        "a = 0\n",
        "b = 10\n",
        "my_list = range(a, b)\n",
        "print(my_list)"
      ]
    },
    {
      "cell_type": "markdown",
      "metadata": {
        "id": "iO42J_b2yOUo"
      },
      "source": [
        "Ми також можемо вказати розмір кроку. Це знову має таку ж поведінку, як і зріз."
      ]
    },
    {
      "cell_type": "code",
      "execution_count": null,
      "metadata": {
        "id": "NMoKi-w6yOUo",
        "outputId": "23e157ec-5038-4960-c372-93f110d1b689",
        "scrolled": true
      },
      "outputs": [
        {
          "name": "stdout",
          "output_type": "stream",
          "text": [
            "range(0, 10, 2)\n"
          ]
        }
      ],
      "source": [
        "a = 0\n",
        "b = 10\n",
        "step = 2\n",
        "my_list = range(a, b, step)\n",
        "print(my_list)"
      ]
    },
    {
      "cell_type": "markdown",
      "metadata": {
        "id": "eSA7UIPqyOUo"
      },
      "source": [
        "### Кортежі (Tuples)\n",
        "\n",
        "`Кортеж` - це тип даних, подібний до списку в тому сенсі, що він може містити різні типи даних. Ключова відмінність тут полягає в тому, що `кортеж` є незмінним. Ми визначаємо `кортеж`, розділяючи елементи, які ми хочемо включити комами. Зазвичай `кортеж` укладають в круглі дужки."
      ]
    },
    {
      "cell_type": "code",
      "execution_count": null,
      "metadata": {
        "id": "5IU95DlCyOUp",
        "outputId": "36551fd5-21b1-463b-bd0b-7ceca5db1cec"
      },
      "outputs": [
        {
          "name": "stdout",
          "output_type": "stream",
          "text": [
            "('I', 'have', 30, 'cats')\n"
          ]
        }
      ],
      "source": [
        "my_tuple = 'I', 'have', 30, 'cats'\n",
        "print(my_tuple)"
      ]
    },
    {
      "cell_type": "code",
      "execution_count": null,
      "metadata": {
        "id": "TbmlyGqzyOUp",
        "outputId": "203158b5-f19e-4a3e-909f-fd5d71b0b1b7"
      },
      "outputs": [
        {
          "name": "stdout",
          "output_type": "stream",
          "text": [
            "('I', 'have', 30, 'cats')\n"
          ]
        }
      ],
      "source": [
        "my_tuple = ('I', 'have', 30, 'cats')\n",
        "print(my_tuple)"
      ]
    },
    {
      "cell_type": "markdown",
      "metadata": {
        "id": "gxI00Vt-yOUp"
      },
      "source": [
        "Як згадувалося раніше, кортежі незмінні. Ви не можете змінити будь-яку їх частину, не визначивши новий кортеж."
      ]
    },
    {
      "cell_type": "code",
      "execution_count": null,
      "metadata": {
        "id": "6c2kpikgyOUp",
        "outputId": "6d8da6f8-0895-45ce-94d2-e14ff7bafd34"
      },
      "outputs": [
        {
          "ename": "TypeError",
          "evalue": "'tuple' object does not support item assignment",
          "output_type": "error",
          "traceback": [
            "\u001b[0;31m---------------------------------------------------------------------------\u001b[0m",
            "\u001b[0;31mTypeError\u001b[0m                                 Traceback (most recent call last)",
            "Input \u001b[0;32mIn [46]\u001b[0m, in \u001b[0;36m<cell line: 1>\u001b[0;34m()\u001b[0m\n\u001b[0;32m----> 1\u001b[0m my_tuple[\u001b[38;5;241m3\u001b[39m] \u001b[38;5;241m=\u001b[39m \u001b[38;5;124m'\u001b[39m\u001b[38;5;124mdogs\u001b[39m\u001b[38;5;124m'\u001b[39m\n",
            "\u001b[0;31mTypeError\u001b[0m: 'tuple' object does not support item assignment"
          ]
        }
      ],
      "source": [
        "my_tuple[3] = 'dogs' # Намагається змінити значення 'cats', що зберігається в кортежі, на 'dogs'"
      ]
    },
    {
      "cell_type": "markdown",
      "metadata": {
        "id": "4T9YEaCfyOUp"
      },
      "source": [
        "Ви можете нарізати кортежі так само, як ви нарізаєте списки!"
      ]
    },
    {
      "cell_type": "code",
      "execution_count": null,
      "metadata": {
        "id": "_3gyezGryOUp",
        "outputId": "2eca290d-f0f9-40eb-b8fc-585a1515bca9"
      },
      "outputs": [
        {
          "name": "stdout",
          "output_type": "stream",
          "text": [
            "('have', 30)\n"
          ]
        }
      ],
      "source": [
        "print(my_tuple[1:3])"
      ]
    },
    {
      "cell_type": "markdown",
      "metadata": {
        "id": "jt42cavFyOUq"
      },
      "source": [
        "І об'єднайте їх так, як ви б це зробили з рядками!"
      ]
    },
    {
      "cell_type": "code",
      "execution_count": null,
      "metadata": {
        "id": "JhJRRJldyOUq",
        "outputId": "10192ea3-2b20-42f2-9984-583631e8afa7"
      },
      "outputs": [
        {
          "name": "stdout",
          "output_type": "stream",
          "text": [
            "('I', 'have', 30, 'cats', 'make', 'that', 50)\n"
          ]
        }
      ],
      "source": [
        "my_other_tuple = ('make', 'that', 50)\n",
        "print(my_tuple + my_other_tuple)"
      ]
    },
    {
      "cell_type": "markdown",
      "metadata": {
        "id": "j1eQ76FvyOUq"
      },
      "source": [
        "Ми можемо `упакувати` значення разом, створивши кортеж (як зазначено вище), або ми можемо `розпакувати` значення з кортежу, витягуючи їх."
      ]
    },
    {
      "cell_type": "code",
      "execution_count": null,
      "metadata": {
        "id": "AwJazFavyOUq",
        "outputId": "87f58047-3c61-4c34-9c42-65e46d244586"
      },
      "outputs": [
        {
          "name": "stdout",
          "output_type": "stream",
          "text": [
            "make that 50\n"
          ]
        }
      ],
      "source": [
        "str_1, str_2, int_1 = my_other_tuple\n",
        "print(str_1, str_2, int_1)"
      ]
    },
    {
      "cell_type": "markdown",
      "metadata": {
        "id": "Qv-JGLSryOUq"
      },
      "source": [
        "Розпакування присвоює кожне значення кортежу по порядку кожній змінній у лівій частині знака рівності. Деякі функції, включаючи спеціальні функції, можуть повертати кортежі, тому ми можемо використовувати це, щоб безпосередньо розпакувати їх і отримати доступ до потрібних нам значень."
      ]
    },
    {
      "cell_type": "markdown",
      "metadata": {
        "id": "qCCD5u-ayOUr"
      },
      "source": [
        "### Множини (Sets)\n",
        "\n",
        "`Множини` - це набір невпорядкованих, унікальних елементів. Він працює майже точно так, як ви очікували б від звичайного набору математичних задач, і визначається за допомогою фігурних дужок (`{}`)."
      ]
    },
    {
      "cell_type": "code",
      "execution_count": null,
      "metadata": {
        "id": "oz0Cd0y6yOUr",
        "outputId": "10c52f1b-e51b-41df-9531-c10dd1ce734d"
      },
      "outputs": [
        {
          "name": "stdout",
          "output_type": "stream",
          "text": [
            "{'lizards', 'dogs', 'the number 4', 4, 'man I just LOVE the number 4', 7, 42} <class 'set'>\n"
          ]
        }
      ],
      "source": [
        "things_i_like = {'dogs', 7, 'the number 4', 4, 4, 4, 42, 'lizards', 'man I just LOVE the number 4'}\n",
        "print(things_i_like, type(things_i_like))"
      ]
    },
    {
      "cell_type": "markdown",
      "metadata": {
        "id": "vPpmMfSYyOUr"
      },
      "source": [
        "Зверніть увагу, як будь-які додаткові екземпляри одного і того ж елемента видаляються в остаточному наборі. Ми також можемо створити `множину` зі списку, використовуючи функцію `set()`."
      ]
    },
    {
      "cell_type": "code",
      "execution_count": null,
      "metadata": {
        "id": "K7vyO5FqyOUr",
        "outputId": "77e7ebb8-6411-4fef-c610-67276c694262"
      },
      "outputs": [
        {
          "name": "stdout",
          "output_type": "stream",
          "text": [
            "{'dogs', 'bats', 'lizards', 'cats', 'sponges', 'cows'}\n"
          ]
        }
      ],
      "source": [
        "animal_list = ['cats', 'dogs', 'dogs', 'dogs', 'lizards', 'sponges', 'cows', 'bats', 'sponges']\n",
        "animal_set = set(animal_list)\n",
        "print(animal_set) # видаляємо всі дублікати зі списку"
      ]
    },
    {
      "cell_type": "markdown",
      "metadata": {
        "id": "G_HKkWl3yOUr"
      },
      "source": [
        "Виклик `len()` для множини повідомить вам, скільки в ньому елементів."
      ]
    },
    {
      "cell_type": "code",
      "execution_count": null,
      "metadata": {
        "id": "co2hOldnyOUr",
        "outputId": "eb9a49d1-a58e-4724-a791-3787d46b2957"
      },
      "outputs": [
        {
          "name": "stdout",
          "output_type": "stream",
          "text": [
            "6\n"
          ]
        }
      ],
      "source": [
        "print(len(animal_set))"
      ]
    },
    {
      "cell_type": "markdown",
      "metadata": {
        "id": "8HT2sRavyOUs"
      },
      "source": [
        "Оскільки `множина` представляє невпорядковану структуру даних, ми не можемо отримати доступ до окремих елементів за допомогою індексу. Однак ми можемо легко перевірити приналежність (щоб побачити, чи міститься щось у наборі) та використовувати об'єднання та перетини множин за допомогою вбудованих функцій set."
      ]
    },
    {
      "cell_type": "code",
      "execution_count": null,
      "metadata": {
        "id": "X8Cw9GIyyOUs",
        "outputId": "bd37af2b-d390-4f03-e60d-81c58ae9299a"
      },
      "outputs": [
        {
          "data": {
            "text/plain": [
              "True"
            ]
          },
          "execution_count": 53,
          "metadata": {},
          "output_type": "execute_result"
        }
      ],
      "source": [
        "'cats' in animal_set # Тут ми перевіряємо наявність членства, використовуючи ключове слово 'in'."
      ]
    },
    {
      "cell_type": "markdown",
      "metadata": {
        "id": "1NhopTEDyOUs"
      },
      "source": [
        "Тут ми перевірили, чи міститься рядок `cats` у нашому `animal_set`, і він повернув `True`, повідомивши нам, що він насправді знаходиться в нашому наборі.\n",
        "\n",
        "Ми можемо з'єднати множини, використовуючи типові математичні оператори множин, а саме `|` для об'єднання та `&` для перетину. Використання `|` або `&` поверне саме те, що ви очікували б, якщо ви знайомі з множинами в математиці."
      ]
    },
    {
      "cell_type": "code",
      "execution_count": null,
      "metadata": {
        "id": "QIMJqC1ByOUs",
        "outputId": "16dc2fbd-98b2-42fb-acd3-482cd567852d"
      },
      "outputs": [
        {
          "name": "stdout",
          "output_type": "stream",
          "text": [
            "{'dogs', 'the number 4', 4, 'bats', 'man I just LOVE the number 4', 7, 42, 'lizards', 'cats', 'sponges', 'cows'}\n"
          ]
        }
      ],
      "source": [
        "print(animal_set | things_i_like) # Ви також можете написати things_i_like / animal_set без будь-якої різниці"
      ]
    },
    {
      "cell_type": "markdown",
      "metadata": {
        "id": "m60kWffuyOUs"
      },
      "source": [
        "Сполучення двох наборів за допомогою `|` об'єднує множини, видаляючи будь-які повторення, щоб зробити кожен елемент набору унікальним."
      ]
    },
    {
      "cell_type": "code",
      "execution_count": null,
      "metadata": {
        "id": "PdIj_8DwyOUs",
        "outputId": "8acceec7-b051-4b81-e862-9dfea7eb0a10"
      },
      "outputs": [
        {
          "name": "stdout",
          "output_type": "stream",
          "text": [
            "{'lizards', 'dogs'}\n"
          ]
        }
      ],
      "source": [
        "print(animal_set & things_i_like) # Ви також можете написати things_i_like & animal_set без будь-якої різниці"
      ]
    },
    {
      "cell_type": "markdown",
      "metadata": {
        "id": "UvRn7RsiyOUt"
      },
      "source": [
        "Сполучення двох наборів за допомогою `&` обчислює перетин обох наборів, повертаючи набір, який містить лише те, що вони мають спільне.\n",
        "\n",
        "Якщо вам цікаво дізнатися більше про вбудовані функції для наборів, не соромтеся ознайомитися з [документацією](https://docs.python.org/3/library/stdtypes.html#set-types-set-frozenset)."
      ]
    },
    {
      "cell_type": "markdown",
      "metadata": {
        "id": "27XkMxMKyOUt"
      },
      "source": [
        "### Словники (Dictionaries)\n",
        "\n",
        "Ще однією важливою структурою даних у Python є словник. Словники визначаються за допомогою комбінації фігурних дужок (`{}`) і двокрапок (`:`). Фігурні дужки визначають початок і кінець словника, а двокрапки вказують пари ключ-значення. Словник - це, по суті, набір пар ключ-значення. Ключ будь-якого запису повинен бути незмінним типом даних. Це робить кандидатами як рядки, так і кортежі. Ключі можуть бути як додані, так і видалені.\n",
        "\n",
        "У наступному прикладі ми маємо словник, що складається з пар ключ-значення, де ключовим є жанр художньої літератури (`рядок`), а значенням є список книг (`list`) у цьому жанрі. Оскільки колекція все ще вважається єдиною сутністю, ми можемо використовувати її для збору декількох змінних або значень в одну пару ключ-значення."
      ]
    },
    {
      "cell_type": "code",
      "execution_count": null,
      "metadata": {
        "id": "0OLs3rhPyOUt"
      },
      "outputs": [],
      "source": [
        "my_dict = {\"High Fantasy\": [\"Wheel of Time\", \"Lord of the Rings\"],\n",
        "           \"Sci-fi\": [\"Book of the New Sun\", \"Neuromancer\", \"Snow Crash\"],\n",
        "           \"Weird Fiction\": [\"At the Mountains of Madness\", \"The House on the Borderland\"]}"
      ]
    },
    {
      "cell_type": "markdown",
      "metadata": {
        "id": "34DQVF1NyOUt"
      },
      "source": [
        "Після визначення словника ми можемо отримати доступ до будь-якого окремого значення, вказавши його ключ у дужках."
      ]
    },
    {
      "cell_type": "code",
      "execution_count": null,
      "metadata": {
        "id": "Nlh7P1h6yOUt",
        "outputId": "043d27ac-8f71-4afa-9803-1f19693049cc"
      },
      "outputs": [
        {
          "name": "stdout",
          "output_type": "stream",
          "text": [
            "['Book of the New Sun', 'Neuromancer', 'Snow Crash']\n"
          ]
        }
      ],
      "source": [
        "print(my_dict[\"Sci-fi\"])"
      ]
    },
    {
      "cell_type": "markdown",
      "metadata": {
        "id": "XQiZCb-cyOUx"
      },
      "source": [
        "Ми також можемо змінити значення, пов'язане з даним ключем"
      ]
    },
    {
      "cell_type": "code",
      "execution_count": null,
      "metadata": {
        "id": "aIlrH-K_yOUy",
        "outputId": "709a0ba9-3c2f-4dcb-b686-f7eab45d6830"
      },
      "outputs": [
        {
          "name": "stdout",
          "output_type": "stream",
          "text": [
            "{'High Fantasy': ['Wheel of Time', 'Lord of the Rings'], 'Sci-fi': \"I can't read\", 'Weird Fiction': ['At the Mountains of Madness', 'The House on the Borderland']}\n"
          ]
        }
      ],
      "source": [
        "my_dict[\"Sci-fi\"] = \"I can't read\"\n",
        "print(my_dict)"
      ]
    },
    {
      "cell_type": "markdown",
      "metadata": {
        "id": "5KPdGFIYyOUy"
      },
      "source": [
        "Додати нову пару ключ-значення так само просто, як і визначити її."
      ]
    },
    {
      "cell_type": "code",
      "execution_count": null,
      "metadata": {
        "id": "V0YdB4A9yOUy",
        "outputId": "0935ddff-3d11-4f92-f1f6-8d3bf3bc6bdf"
      },
      "outputs": [
        {
          "name": "stdout",
          "output_type": "stream",
          "text": [
            "['Pillars of the Earth']\n"
          ]
        }
      ],
      "source": [
        "my_dict[\"Historical Fiction\"] = [\"Pillars of the Earth\"]\n",
        "print(my_dict[\"Historical Fiction\"])"
      ]
    },
    {
      "cell_type": "code",
      "execution_count": null,
      "metadata": {
        "id": "g34gmgXkyOUy",
        "outputId": "dcb6fa0a-de16-4611-b0ba-5b2bd9215fbc"
      },
      "outputs": [
        {
          "name": "stdout",
          "output_type": "stream",
          "text": [
            "{'High Fantasy': ['Wheel of Time', 'Lord of the Rings'], 'Sci-fi': \"I can't read\", 'Weird Fiction': ['At the Mountains of Madness', 'The House on the Borderland'], 'Historical Fiction': ['Pillars of the Earth']}\n"
          ]
        }
      ],
      "source": [
        "print(my_dict)"
      ]
    },
    {
      "cell_type": "markdown",
      "metadata": {
        "id": "w9clPIwqyOUy"
      },
      "source": [
        "## Рядки (Strings)\n",
        "\n",
        "Ми вже знаємо, що рядки зазвичай використовуються для тексту. Ми можемо використовувати вбудовані операції для легкого об'єднання, розділення та форматування рядків, залежно від наших потреб.\n",
        "\n",
        "Символ `+` вказує на конкатенацію мовою рядків. Це об'єднає два рядки в довший рядок."
      ]
    },
    {
      "cell_type": "code",
      "execution_count": null,
      "metadata": {
        "id": "SRyHft6RyOUy",
        "outputId": "0e06a8cf-e0b0-4ffe-ba8a-b7916283e25f"
      },
      "outputs": [
        {
          "name": "stdout",
          "output_type": "stream",
          "text": [
            "\"Beware the Jabberwock, my son! /The jaws that bite, the claws that catch! /Beware the Jubjub bird, and shun /The frumious Bandersnatch!\"/\n"
          ]
        }
      ],
      "source": [
        "first_string = '\"Beware the Jabberwock, my son! /The jaws that bite, the claws that catch! /'\n",
        "second_string = 'Beware the Jubjub bird, and shun /The frumious Bandersnatch!\"/'\n",
        "third_string = first_string + second_string\n",
        "print(third_string)"
      ]
    },
    {
      "cell_type": "markdown",
      "metadata": {
        "id": "vpneNos6yOUz"
      },
      "source": [
        "Рядки також індексуються приблизно так само, як і списки."
      ]
    },
    {
      "cell_type": "code",
      "execution_count": null,
      "metadata": {
        "id": "MQ_DdZwfyOUz",
        "outputId": "d20dcf29-8c51-453c-8405-6b763574503a"
      },
      "outputs": [
        {
          "name": "stdout",
          "output_type": "stream",
          "text": [
            "The first letter is:  S\n",
            "The last letter is:  s\n",
            "The second to last letter is:  u\n",
            "The first five characters are:  Super\n",
            "Reverse it!:  suoicodilaipxecitsiligarfilacrepuS\n"
          ]
        }
      ],
      "source": [
        "my_string = 'Supercalifragilisticexpialidocious'\n",
        "print('The first letter is: ', my_string[0]) # Uppercase S\n",
        "print('The last letter is: ', my_string[-1]) # lowercase s\n",
        "print('The second to last letter is: ', my_string[-2]) # lowercase u\n",
        "print('The first five characters are: ', my_string[0:5]) # Remember: slicing doesn't include the final element!\n",
        "print('Reverse it!: ', my_string[::-1])"
      ]
    },
    {
      "cell_type": "markdown",
      "metadata": {
        "id": "1YEeOPHGyOUz"
      },
      "source": [
        "Вбудовані об'єкти та класи часто мають пов'язані з ними спеціальні функції, які називаються методами. Ми отримуємо доступ до цих методів, використовуючи точку ('.').\n",
        "\n",
        "Використовуючи рядкові методи, ми можемо підраховувати екземпляри символу або групи символів."
      ]
    },
    {
      "cell_type": "code",
      "execution_count": null,
      "metadata": {
        "id": "PC-U4nQzyOUz",
        "outputId": "97133104-1ff0-4477-f6ec-0dcccd6b28ab",
        "scrolled": true
      },
      "outputs": [
        {
          "name": "stdout",
          "output_type": "stream",
          "text": [
            "Count of the letter i in Supercalifragilisticexpialidocious:  7\n",
            "Count of \"li\" in the same word:  3\n"
          ]
        }
      ],
      "source": [
        "print('Count of the letter i in Supercalifragilisticexpialidocious: ', my_string.count('i'))\n",
        "print('Count of \"li\" in the same word: ', my_string.count('li'))"
      ]
    },
    {
      "cell_type": "markdown",
      "metadata": {
        "id": "2FzXIptZyOUz"
      },
      "source": [
        "Ми також можемо знайти перший екземпляр символу або групи символів у рядку."
      ]
    },
    {
      "cell_type": "code",
      "execution_count": null,
      "metadata": {
        "id": "ranmqaixyOUz",
        "outputId": "f92be29f-33f0-41ba-faac-de91731e13d4"
      },
      "outputs": [
        {
          "name": "stdout",
          "output_type": "stream",
          "text": [
            "The first time i appears is at index:  8\n"
          ]
        }
      ],
      "source": [
        "print('The first time i appears is at index: ', my_string.find('i'))"
      ]
    },
    {
      "cell_type": "markdown",
      "metadata": {
        "id": "t1AcpbAMyOU0"
      },
      "source": [
        "А також замінити символи в рядку."
      ]
    },
    {
      "cell_type": "code",
      "execution_count": null,
      "metadata": {
        "id": "l0iYzUDDyOU0",
        "outputId": "6ceb4c8d-696c-4514-9a12-17a9fc26f420"
      },
      "outputs": [
        {
          "name": "stdout",
          "output_type": "stream",
          "text": [
            "All i's are now a's:  Supercalafragalastacexpaaladocaous\n"
          ]
        }
      ],
      "source": [
        "print(\"All i's are now a's: \", my_string.replace('i', 'a'))"
      ]
    },
    {
      "cell_type": "code",
      "execution_count": null,
      "metadata": {
        "id": "qgcntjdOyOU0",
        "outputId": "1f01660e-edd9-4571-cb90-61d3de8feae8"
      },
      "outputs": [
        {
          "name": "stdout",
          "output_type": "stream",
          "text": [
            "It's raining cats and more cats\n"
          ]
        }
      ],
      "source": [
        "print(\"It's raining cats and dogs\".replace('dogs', 'more cats'))"
      ]
    },
    {
      "cell_type": "markdown",
      "metadata": {
        "id": "aZ_RCenRyOU0"
      },
      "source": [
        "Існують також деякі методи, які є унікальними для рядків. Функція `upper()` перетворює всі символи в рядку в верхній регістр, в той час як `lower()` перетворює всі символи в рядку в нижній регістр!"
      ]
    },
    {
      "cell_type": "code",
      "execution_count": null,
      "metadata": {
        "id": "BqlDbTnUyOU0",
        "outputId": "153daaab-ac32-41b5-ebb8-e9de0c148eae"
      },
      "outputs": [
        {
          "name": "stdout",
          "output_type": "stream",
          "text": [
            "I CAN'T HEAR YOU\n",
            "i said hello\n"
          ]
        }
      ],
      "source": [
        "my_string = \"I can't hear you\"\n",
        "print(my_string.upper())\n",
        "my_string = \"I said HELLO\"\n",
        "print(my_string.lower())"
      ]
    },
    {
      "cell_type": "markdown",
      "metadata": {
        "id": "jAK_l9skyOU1"
      },
      "source": [
        "### Форматування рядків\n",
        "\n",
        "Використовуючи метод `format()`, ми можемо додавати значення змінних і форматувати наші рядки."
      ]
    },
    {
      "cell_type": "code",
      "execution_count": null,
      "metadata": {
        "id": "SjVlkUBpyOU1",
        "outputId": "4616102b-8e43-4297-c4fa-ab6ff5b4508e"
      },
      "outputs": [
        {
          "name": "stdout",
          "output_type": "stream",
          "text": [
            "Marco Polo\n"
          ]
        }
      ],
      "source": [
        "my_string = \"{0} {1}\".format('Marco', 'Polo')\n",
        "print(my_string)"
      ]
    },
    {
      "cell_type": "code",
      "execution_count": null,
      "metadata": {
        "id": "QEB-h1OYyOU1",
        "outputId": "dc9af060-ec17-48c2-dd5c-91b1e0d76f57"
      },
      "outputs": [
        {
          "name": "stdout",
          "output_type": "stream",
          "text": [
            "Polo Marco\n"
          ]
        }
      ],
      "source": [
        "my_string = \"{1} {0}\".format('Marco', 'Polo')\n",
        "print(my_string)"
      ]
    },
    {
      "cell_type": "markdown",
      "metadata": {
        "id": "W6qmePbMyOU1"
      },
      "source": [
        "Ми використовуємо фігурні дужки (`{}`) для позначення частин рядка, які будуть заповнені пізніше, і ми використовуємо аргументи функції `format()` для надання значень для заміни. Цифри у фігурних дужках вказують індекс значення в аргументах `format()`."
      ]
    },
    {
      "cell_type": "markdown",
      "metadata": {
        "id": "q9ZWe2CryOU1"
      },
      "source": [
        "Дивіться `format()` [документація](https://docs.python.org/3/library/string.html#format-examples) для отримання додаткових прикладів.\n"
      ]
    },
    {
      "cell_type": "markdown",
      "metadata": {
        "id": "mnl0GC8ByOU2"
      },
      "source": [
        "Якщо вам потрібне швидке та брудне форматування, ви можете замість цього використовувати символ `%`, який називається оператором форматування рядка."
      ]
    },
    {
      "cell_type": "code",
      "execution_count": null,
      "metadata": {
        "id": "8bV64vbUyOU2",
        "outputId": "bc8d0737-9f57-441d-970e-f05ffc11f074"
      },
      "outputs": [
        {
          "name": "stdout",
          "output_type": "stream",
          "text": [
            "insert value here\n"
          ]
        }
      ],
      "source": [
        "print('insert %s here' % 'value')"
      ]
    },
    {
      "cell_type": "markdown",
      "metadata": {
        "id": "qJCcl2MFyOU2"
      },
      "source": [
        "Символ `%` в основному вказує Python на створення заповнювача. Будь-який символ, що слідує за `%` (у рядку), вказує, який тип матиме значення, введене в заповнювач. Цей символ називається *типом перетворення*. Після закриття рядка нам знадобиться ще один `%`, за яким слідують значення для вставки. У випадку одного значення ви можете просто помістити його туди. Якщо ви вставляєте більше одного значення, вони повинні бути укладені в кортеж."
      ]
    },
    {
      "cell_type": "code",
      "execution_count": null,
      "metadata": {
        "id": "XuQ46M8zyOU2",
        "outputId": "17f43da0-18e9-4fa9-e21a-77eb2f86465b"
      },
      "outputs": [
        {
          "name": "stdout",
          "output_type": "stream",
          "text": [
            "There are 13 cats in my apartment\n"
          ]
        }
      ],
      "source": [
        "print('There are %s cats in my %s' % (13, 'apartment'))"
      ]
    },
    {
      "cell_type": "markdown",
      "metadata": {
        "id": "at8JHuljyOU2"
      },
      "source": [
        "У цих прикладах `%s` вказує, що Python повинен перетворити значення в рядки. Існує кілька типів перетворення, які ви можете використовувати, щоб уточнити форматування. Дивіться [форматування рядка](https://docs.python.org/3/library/stdtypes.html#string-formatting) для отримання додаткових прикладів та більш повної інформації про використання."
      ]
    },
    {
      "cell_type": "markdown",
      "metadata": {
        "id": "X0KAdBN8yOU2"
      },
      "source": [
        "## Логічні оператори\n",
        "### Базова логіка\n",
        "\n",
        "Логічні оператори мають справу з `булевими` значеннями, як ми коротко розглянули раніше. Якщо ви пам'ятаєте, `bool` приймає одне з двох значень: `True` або `False` (або $1$ або $0$). Основні логічні твердження, які ми можемо зробити, визначаються за допомогою вбудованих компараторів. Це `==` (дорівнює), `!= ` (не дорівнює), `<` (Менше), `>` (Більше), `<= ` (менше або дорівнює) і `>=` (більше або дорівнює)."
      ]
    },
    {
      "cell_type": "code",
      "execution_count": null,
      "metadata": {
        "id": "rb7fWIHKyOU2",
        "outputId": "ed4cda96-4f83-4915-eeef-649364843cc6"
      },
      "outputs": [
        {
          "name": "stdout",
          "output_type": "stream",
          "text": [
            "True\n"
          ]
        }
      ],
      "source": [
        "print(5 == 5)"
      ]
    },
    {
      "cell_type": "code",
      "execution_count": null,
      "metadata": {
        "id": "IvmXKNiByOU3",
        "outputId": "f22ce4f8-5370-4371-e29e-00be7d4a3560"
      },
      "outputs": [
        {
          "name": "stdout",
          "output_type": "stream",
          "text": [
            "False\n"
          ]
        }
      ],
      "source": [
        "print(5 > 5)"
      ]
    },
    {
      "cell_type": "markdown",
      "metadata": {
        "id": "OAghss13yOU3"
      },
      "source": [
        "Ці компаратори також працюють у поєднанні зі змінними."
      ]
    },
    {
      "cell_type": "code",
      "execution_count": null,
      "metadata": {
        "id": "wf2tHxMWyOU3",
        "outputId": "92970e9f-19a8-43ac-a35f-dd0d81ce9ac2"
      },
      "outputs": [
        {
          "name": "stdout",
          "output_type": "stream",
          "text": [
            "True\n"
          ]
        }
      ],
      "source": [
        "m = 2\n",
        "n = 23\n",
        "print(m < n)"
      ]
    },
    {
      "cell_type": "markdown",
      "metadata": {
        "id": "eB6imma7yOU3"
      },
      "source": [
        "Ми можемо зв'язати ці компаратори разом, щоб створити більш складні логічні оператори, використовуючи логічні оператори `or`, `and` і `not`."
      ]
    },
    {
      "cell_type": "code",
      "execution_count": null,
      "metadata": {
        "id": "sK7AK2aOyOU3",
        "outputId": "8805e1c2-2297-4a7a-bff7-77aef9592b97"
      },
      "outputs": [
        {
          "name": "stdout",
          "output_type": "stream",
          "text": [
            "Statement 1 truth value: True\n",
            "Statement 2 truth value: True\n",
            "Statement 1 and Statement 2: True\n"
          ]
        }
      ],
      "source": [
        "statement_1 = 10 > 2\n",
        "statement_2 = 4 <= 6\n",
        "print(\"Statement 1 truth value: {0}\".format(statement_1))\n",
        "print(\"Statement 2 truth value: {0}\".format(statement_2))\n",
        "print(\"Statement 1 and Statement 2: {0}\".format(statement_1 and statement_2))"
      ]
    },
    {
      "cell_type": "markdown",
      "metadata": {
        "id": "G6DZkQVHyOU3"
      },
      "source": [
        "Оператор `or` виконує логічне обчислення `або`. Будь-який компонент, об'єднаний за допомогою `або`, що є `True`, представлятиме все твердження як `True`. Оператор `and` виводить `True`, лише якщо всі компоненти разом є `True`. В іншому випадку він видасть `False`. Твердження `not` просто інвертує значення істинності будь-якого наступного за ним твердження. Таким чином, твердження `True` буде оцінено як `False`, коли перед ним буде поставлено `not`. Аналогічно, `False` твердження стане `True`, коли перед ним буде стояти `not`.\n",
        "\n",
        "Припустимо, у нас є два логічні твердження, $P$ і $Q$. Таблиця істинності для основних логічних операторів виглядає наступним чином:\n",
        "\n",
        "|  P  |  Q  | `not` P| P `and` Q | P `or` Q|\n",
        "|:-----:|:-----:|:---:|:---:|:---:|\n",
        "| `True` | `True` | `False` | `True` | `True` |\n",
        "| `False` | `True` | `True` | `False` | `True` |\n",
        "| `True` | `False` | `False` | `False` | `True` |\n",
        "| `False` | `False` | `True` | `False` | `False` |\n",
        "\n",
        "Ми можемо зв'язати кілька логічних операторів разом, використовуючи логічні оператори."
      ]
    },
    {
      "cell_type": "code",
      "execution_count": null,
      "metadata": {
        "id": "N-lQSHIEyOU4",
        "outputId": "79dafc1c-57c3-49b0-f61c-697d98d09bae"
      },
      "outputs": [
        {
          "name": "stdout",
          "output_type": "stream",
          "text": [
            "True\n"
          ]
        }
      ],
      "source": [
        "print(((2 < 3) and (3 > 0)) or ((5 > 6) and not (4 < 2)))"
      ]
    },
    {
      "cell_type": "markdown",
      "metadata": {
        "id": "nu-DKe-iyOU4"
      },
      "source": [
        "Логічні твердження можуть бути настільки простими або складними, наскільки нам подобається, залежно від того, що нам потрібно висловити. Оцінюючи наведене вище логічне твердження крок за кроком, ми бачимо, що ми оцінюємо (`True and True`) `or` (`False and not False`). Дана конструкція набуваж вигляду `True or (False and True`). Згодом стає `True or False`, і в кінцевому рахунку оцінюється як `True`."
      ]
    },
    {
      "cell_type": "markdown",
      "metadata": {
        "id": "3TzGMngayOU4"
      },
      "source": [
        "#### Істинність\n",
        "\n",
        "Типи даних у Python мають цікаву характеристику, яка називається істинністю. Це означає, що більшість вбудованих типів будуть оцінюватися як `True` або `False`, коли потрібне логічне значення (наприклад, за допомогою оператора if). Як правило, контейнери, такі як рядки, кортежі, словники, списки та множини, повертають `True`, якщо вони взагалі що-небудь містять, і `False`, якщо вони нічого не містять."
      ]
    },
    {
      "cell_type": "code",
      "execution_count": null,
      "metadata": {
        "id": "reJ2clAGyOU4",
        "outputId": "c5e4e67f-fd62-4f55-f256-f4442632ef8e"
      },
      "outputs": [
        {
          "name": "stdout",
          "output_type": "stream",
          "text": [
            "False\n"
          ]
        }
      ],
      "source": [
        "# Cхоже до того, як працюють float() та int(), book () змушує значення вважатися логічним!\n",
        "print(bool(''))"
      ]
    },
    {
      "cell_type": "code",
      "execution_count": null,
      "metadata": {
        "id": "FM2Zb4qoyOU4",
        "outputId": "3ab0c78c-15b1-45f2-8731-fab11c567da2"
      },
      "outputs": [
        {
          "name": "stdout",
          "output_type": "stream",
          "text": [
            "True\n"
          ]
        }
      ],
      "source": [
        "print(bool('I have character!'))"
      ]
    },
    {
      "cell_type": "code",
      "execution_count": null,
      "metadata": {
        "id": "6QhnEHOcyOU5",
        "outputId": "fb2e338a-4ba0-488d-ef04-0fb140cbb755"
      },
      "outputs": [
        {
          "name": "stdout",
          "output_type": "stream",
          "text": [
            "False\n"
          ]
        }
      ],
      "source": [
        "print(bool([]))"
      ]
    },
    {
      "cell_type": "code",
      "execution_count": null,
      "metadata": {
        "id": "OcSK1t42yOU5",
        "outputId": "3b9ae957-d9fd-48d5-e716-cfbf4f05ee31"
      },
      "outputs": [
        {
          "name": "stdout",
          "output_type": "stream",
          "text": [
            "True\n"
          ]
        }
      ],
      "source": [
        "print(bool([1, 2, 3]))"
      ]
    },
    {
      "cell_type": "markdown",
      "metadata": {
        "id": "JfxOA7KMyOU5"
      },
      "source": [
        "І так далі, для інших колекцій та контейнерів. `None` також оцінюється як `False`. Число `1` еквівалентно `True`, а число `0` також еквівалентно `False` в логічному контексті."
      ]
    },
    {
      "cell_type": "markdown",
      "metadata": {
        "id": "EAF0FhS_yOU5"
      },
      "source": [
        "### If-оператори\n",
        "\n",
        "Ми можемо створювати сегменти коду, які виконуються тільки при виконанні набору умов. Ми використовуємо оператори if у поєднанні з логічними операторами для створення розгалужень у нашому коді.\n",
        "\n",
        "Блок `if` вводиться, коли умова вважається `True`. Якщо умова оцінюється як `False`, блок `if` буде просто пропущений, якщо тільки до нього не додається блок `else`. Умови створюються за допомогою логічних операторів або за допомогою істинності значень у Python. Оператор if визначається двокрапкою і блоком тексту з відступом."
      ]
    },
    {
      "cell_type": "code",
      "execution_count": null,
      "metadata": {
        "id": "zOp56y1CyOU5",
        "outputId": "d0e61e17-0af7-425a-954b-924afd55776e"
      },
      "outputs": [
        {
          "name": "stdout",
          "output_type": "stream",
          "text": [
            "True\n"
          ]
        }
      ],
      "source": [
        "if \"Condition\":\n",
        "    print(True)\n",
        "else:\n",
        "    print(False)"
      ]
    },
    {
      "cell_type": "code",
      "execution_count": null,
      "metadata": {
        "id": "bTMyvWrvyOU6"
      },
      "outputs": [],
      "source": [
        "i = 4\n",
        "if i == 5:\n",
        "    print('The variable i has a value of 5')"
      ]
    },
    {
      "cell_type": "markdown",
      "metadata": {
        "id": "XdCeSwmgyOU6"
      },
      "source": [
        "Оскільки в цьому прикладі `i = 4` і оператор if шукає лише те, чи `i = 5`, оператор print ніколи не буде виконаний. Ми можемо додати оператор `else`, щоб створити блок коду на випадок надзвичайних ситуацій на випадок, якщо умова в операторі if не буде оцінена як `True`."
      ]
    },
    {
      "cell_type": "code",
      "execution_count": null,
      "metadata": {
        "id": "45xR9w8CyOU6",
        "outputId": "2abd7f55-deab-46a3-f5c6-7b2e98cfe674"
      },
      "outputs": [
        {
          "name": "stdout",
          "output_type": "stream",
          "text": [
            "Усі рядки в цьому блоці з відступом є частиною цього блоку\n",
            "Змінна i має значення 5\n"
          ]
        }
      ],
      "source": [
        "i = 5\n",
        "if i == 5:\n",
        "    print(\"Усі рядки в цьому блоці з відступом є частиною цього блоку\")\n",
        "    print('Змінна i має значення 5')\n",
        "else:\n",
        "    print(\"Усі рядки в цьому блоці з відступом є частиною цього блоку\")\n",
        "    print('Змінна i не дорівнює 5')"
      ]
    },
    {
      "cell_type": "markdown",
      "metadata": {
        "id": "LM4OHEmDyOU6"
      },
      "source": [
        "Ми можемо реалізувати інші гілки від того самого оператора if, використовуючи `elif`, скорочення від `else if`. Ми можемо включати стільки `elif`-сів, скільки захочемо, поки не вичерпаємо всі логічні гілки умови."
      ]
    },
    {
      "cell_type": "code",
      "execution_count": null,
      "metadata": {
        "id": "ZelkZTawyOU6",
        "outputId": "3caf7c9e-36df-42aa-f54c-489374bfaf53"
      },
      "outputs": [
        {
          "name": "stdout",
          "output_type": "stream",
          "text": [
            "Мене не хвилює змінна і\n"
          ]
        }
      ],
      "source": [
        "i = 1\n",
        "if i == 1:\n",
        "    print('Змінна i має значення 1')\n",
        "elif i == 2:\n",
        "    print('Змінна і має значення 2')\n",
        "elif i == 3:\n",
        "    print('Змінна і має значення 3')\n",
        "else:\n",
        "    print(\"Мене не хвилює змінна і\")"
      ]
    },
    {
      "cell_type": "markdown",
      "metadata": {
        "id": "ZUHio9o8yOU7"
      },
      "source": [
        "Ви також можете вкласти оператори if в інші оператори if, щоб перевірити наявність додаткових умов."
      ]
    },
    {
      "cell_type": "code",
      "execution_count": null,
      "metadata": {
        "id": "Zv4WnBdFyOU7",
        "outputId": "505957de-4d89-47b6-f133-415a21cc10f5"
      },
      "outputs": [
        {
          "name": "stdout",
          "output_type": "stream",
          "text": [
            "і ділиться як на 2, так і на 5!\n"
          ]
        }
      ],
      "source": [
        "i = 10\n",
        "if i % 2 == 0:\n",
        "    if i % 3 == 0:\n",
        "        print('і ділиться як на 2, так і на 3!')\n",
        "    elif i % 5 == 0:\n",
        "        print('і ділиться як на 2, так і на 5!')\n",
        "    else:\n",
        "        print('i ділиться на 2, але не на 3 або 5!')\n",
        "else:\n",
        "    print('Я припускаю, що i - непарне число.')"
      ]
    },
    {
      "cell_type": "markdown",
      "metadata": {
        "id": "ZFNGGgWMyOU7"
      },
      "source": [
        "Пам'ятайте, що ми можемо згрупувати кілька умов разом, використовуючи логічні оператори!"
      ]
    },
    {
      "cell_type": "code",
      "execution_count": null,
      "metadata": {
        "id": "15M9JZyfyOU7"
      },
      "outputs": [],
      "source": [
        "i = 11\n",
        "j = 12\n",
        "if i < 10 and j > 11:\n",
        "    print('{0} менше 10 і {1} більше 11!'.format(i, j))"
      ]
    },
    {
      "cell_type": "markdown",
      "metadata": {
        "id": "dpfTF1uLyOU7"
      },
      "source": [
        "Ви можете використовувати логічні компаратори для порівняння рядків!"
      ]
    },
    {
      "cell_type": "code",
      "execution_count": null,
      "metadata": {
        "id": "0ydJFhKvyOU7",
        "outputId": "7ea67815-1bfa-47c2-f1a2-1f0ba69aec34"
      },
      "outputs": [
        {
          "name": "stdout",
          "output_type": "stream",
          "text": [
            "War elephants are TERRIFYING. I am staying home.\n"
          ]
        }
      ],
      "source": [
        "my_string = \"Farthago delenda est\"\n",
        "if my_string == \"Carthago delenda est\":\n",
        "    print('And so it was! For the glory of Rome!')\n",
        "else:\n",
        "    print('War elephants are TERRIFYING. I am staying home.')"
      ]
    },
    {
      "cell_type": "markdown",
      "metadata": {
        "id": "I2ColvDSyOU7"
      },
      "source": [
        "Як і у випадку з іншими типами даних, `==` перевірить, чи дві речі з обох сторін мають однакове значення."
      ]
    },
    {
      "cell_type": "markdown",
      "metadata": {
        "id": "xBgUK1hvyOU8"
      },
      "source": [
        "Деякі вбудовані функції повертають логічне значення, тому їх можна використовувати як умови в операторі if. Користувацькі функції також можуть бути сконструйовані таким чином, щоб вони повертали логічне значення.\n",
        "\n",
        "Ключове слово `in` зазвичай використовується для перевірки приналежності значення до іншого значення. Ми можемо перевірити приналежність у контексті оператора if і використовувати його для виведення значення істини."
      ]
    },
    {
      "cell_type": "code",
      "execution_count": null,
      "metadata": {
        "id": "pq9wvfeEyOU8",
        "outputId": "16179990-cac4-48dd-aa7c-62e18ebe4eb4"
      },
      "outputs": [
        {
          "name": "stdout",
          "output_type": "stream",
          "text": [
            "Those are my favorite vowels!\n"
          ]
        }
      ],
      "source": [
        "if 'a' in my_string or 'e' in my_string:\n",
        "    print('Those are my favorite vowels!')"
      ]
    },
    {
      "cell_type": "markdown",
      "metadata": {
        "id": "1nxg2f25yOU8"
      },
      "source": [
        "Тут ми використовуємо `in`, щоб перевірити, чи містить змінна `my_string` містить якісь конкретні літери."
      ]
    },
    {
      "cell_type": "markdown",
      "metadata": {
        "id": "eKN-nh38yOU8"
      },
      "source": [
        "## Циклічні структури\n",
        "\n",
        "Циклічні структури є однією з найважливіших частин програмування. Цикл `for` і цикл `while` надають спосіб багаторазового запуску блоку коду повторно. Цикл `while` буде повторюватися до виконання певної умови. Якщо в будь-який момент після ітерації ця умова більше не виконується, цикл завершується. Цикл `for` буде виконувати ітерацію за послідовністю значень і завершиться, коли послідовність закінчиться. Можливо включити умови в цикл `for`, щоб вирішити, чи, можливо, просто дозволити йому піти своїм шляхом."
      ]
    },
    {
      "cell_type": "code",
      "execution_count": null,
      "metadata": {
        "id": "MfO7D0cryOU8",
        "outputId": "ca8eff6e-a7e1-4f3b-bb0e-5be0c88c5b19"
      },
      "outputs": [
        {
          "name": "stdout",
          "output_type": "stream",
          "text": [
            "Я зациклений! 9 значень до завершення!\n",
            "Я зациклений! 8 значень до завершення!\n",
            "Я зациклений! 7 значень до завершення!\n",
            "Я зациклений! 6 значень до завершення!\n",
            "Я зациклений! 5 значень до завершення!\n",
            "Я зациклений! 4 значень до завершення!\n",
            "Я зациклений! 3 значень до завершення!\n",
            "Я зациклений! 2 значень до завершення!\n",
            "Я зациклений! 1 значень до завершення!\n",
            "Я зациклений! 0 значень до завершення!\n"
          ]
        }
      ],
      "source": [
        "i = 10\n",
        "while i > 0:\n",
        "    i -= 1\n",
        "    print('Я зациклений! {0} значень до завершення!'.format(i))"
      ]
    },
    {
      "cell_type": "markdown",
      "metadata": {
        "id": "ICfLX-nuyOU9"
      },
      "source": [
        "За допомогою циклів `while` нам потрібно переконатися, що щось насправді змінюється від ітерації до ітерації, щоб цикл фактично закінчувався. У цьому випадку ми використовуємо скорочення `i -= 1` (скорочення від `i = i - 1`), так що значення `i` стає меншим з кожною ітерацією. Врешті-решт `i` буде зменшено до `0`, що призведе до виконання умови `False` та виходу з циклу."
      ]
    },
    {
      "cell_type": "markdown",
      "metadata": {
        "id": "mZ9ZrGHGyOU9"
      },
      "source": [
        "Цикл `for` повторюється задану кількість разів, що визначається, наприклад, при вказівці кільності ітерацій в ітераторі `range`. У цьому випадку ми проходимось по списку, що був повернутий з `range()`. Цикл `for` вибирає значення зі списку по порядку і тимчасово присвоює йому значення `i`, щоб із цим значенням можна було виконувати операції."
      ]
    },
    {
      "cell_type": "code",
      "execution_count": null,
      "metadata": {
        "id": "PrOkfuQlyOU9",
        "outputId": "ef276f90-9d31-40b0-838d-2bfc39dd78f1"
      },
      "outputs": [
        {
          "name": "stdout",
          "output_type": "stream",
          "text": [
            "Я зациклений! Я вже на 1-ій ітерації!\n",
            "Я зациклений! Я вже на 2-ій ітерації!\n",
            "Я зациклений! Я вже на 3-ій ітерації!\n",
            "Я зациклений! Я вже на 4-ій ітерації!\n",
            "Я зациклений! Я вже на 5-ій ітерації!\n"
          ]
        }
      ],
      "source": [
        "for i in range(5):\n",
        "    print('Я зациклений! Я вже на {0}-ій ітерації!'.format(i + 1))"
      ]
    },
    {
      "cell_type": "markdown",
      "metadata": {
        "id": "KA0h9fTEyOU9"
      },
      "source": [
        "Зверніть увагу, що в цьому циклі `for` ми використовуємо ключове слово `in`. Використання ключового слова `in` не обмежується перевіркою приналежності, як у прикладі if-конструкцій. Ви можете оброблювати будь-яку колекцію за допомогою циклу `for`, використовуючи ключове слово `in`.\n",
        "\n",
        "У наступному прикладі ми переглянемо `множину`, оскільки хочемо перевірити наявність вмісту та додати до нового набору."
      ]
    },
    {
      "cell_type": "code",
      "execution_count": null,
      "metadata": {
        "id": "ywFJG8pyyOU9",
        "outputId": "43fa2292-8b32-441d-bef3-026c42cc353b"
      },
      "outputs": [
        {
          "name": "stdout",
          "output_type": "stream",
          "text": [
            "{'dogs', 'bats', 'cats', 'humans', 'cows'}\n"
          ]
        }
      ],
      "source": [
        "my_list = {'cats', 'dogs', 'lizards', 'cows', 'bats', 'sponges', 'humans'}\n",
        "mammal_list = {'cats', 'dogs', 'cows', 'bats', 'humans'} # перераховані всі ссавці в у світі\n",
        "my_new_list = set()\n",
        "for animal in my_list:\n",
        "    if animal in mammal_list:\n",
        "        # додаємо будь-яку тварину, що знаходиться і в my_list, і в mammal_list\n",
        "        my_new_list.add(animal)\n",
        "\n",
        "print(my_new_list)"
      ]
    },
    {
      "cell_type": "markdown",
      "metadata": {
        "id": "d99OPAtIyOU9"
      },
      "source": [
        "Є два твердження, які дуже корисні при роботі як з циклами `for`, так і з циклами `while`. Це `break` і `continue`. Якщо `break` трапляється в будь-який момент під час виконання циклу, цикл негайно завершується."
      ]
    },
    {
      "cell_type": "code",
      "execution_count": null,
      "metadata": {
        "id": "Mk31ofacyOU9",
        "outputId": "797d21ef-2688-4713-844d-6beb3241dd10"
      },
      "outputs": [
        {
          "name": "stdout",
          "output_type": "stream",
          "text": [
            "11\n",
            "12\n",
            "13\n",
            "14\n"
          ]
        }
      ],
      "source": [
        "i = 10\n",
        "while True:\n",
        "    if i == 14:\n",
        "        break\n",
        "    i += 1\n",
        "    print(i)"
      ]
    },
    {
      "cell_type": "code",
      "execution_count": null,
      "metadata": {
        "id": "3gjV5J6PyOU-",
        "outputId": "8f39b7a1-f335-43af-b77c-a91edc578fb5"
      },
      "outputs": [
        {
          "name": "stdout",
          "output_type": "stream",
          "text": [
            "0\n",
            "1\n"
          ]
        }
      ],
      "source": [
        "for i in range(5):\n",
        "    if i == 2:\n",
        "        break\n",
        "    print(i)"
      ]
    },
    {
      "cell_type": "markdown",
      "metadata": {
        "id": "j_Ki8qUTyOU-"
      },
      "source": [
        "Оператор `continue` вкаже циклу негайно завершити цю ітерацію і перейти до наступної ітерації циклу."
      ]
    },
    {
      "cell_type": "code",
      "execution_count": null,
      "metadata": {
        "id": "l80ruQc_yOU-",
        "outputId": "02196b9e-1e0c-4158-e369-7b3e1fadf979"
      },
      "outputs": [
        {
          "name": "stdout",
          "output_type": "stream",
          "text": [
            "1\n",
            "2\n",
            "4\n",
            "5\n"
          ]
        }
      ],
      "source": [
        "i = 0\n",
        "while i < 5:\n",
        "    i += 1\n",
        "    if i == 3:\n",
        "        continue\n",
        "    print(i)"
      ]
    },
    {
      "cell_type": "markdown",
      "metadata": {
        "id": "VwKnNwQeyOU-"
      },
      "source": [
        "Цей цикл пропускає друк числа $3$ через інструкцію `continue`, яка виконується, коли ми вводимо оператор if. Код ніколи не бачить команди для друку числа $3$, оскільки він уже перейшов до наступної ітерації."
      ]
    },
    {
      "cell_type": "markdown",
      "metadata": {
        "id": "PEyBUKg5yOU-"
      },
      "source": [
        "Змінна, яку ми використовуємо для ітерації циклу, збереже своє значення при завершенні циклу. Аналогічно, будь-які змінні, визначені в контексті циклу, продовжуватимуть існувати поза ним."
      ]
    },
    {
      "cell_type": "code",
      "execution_count": null,
      "metadata": {
        "id": "F-Vpk7N3yOU_",
        "outputId": "2ef0e26d-d206-4ccd-e8b2-610ffdb0bc91"
      },
      "outputs": [
        {
          "name": "stdout",
          "output_type": "stream",
          "text": [
            "Я вічний! Я 0 і я існую скрізь!\n",
            "Я вічний! Я 1 і я існую скрізь!\n",
            "Я вічний! Я 2 і я існую скрізь!\n",
            "Я вічний! Я 3 і я існую скрізь!\n",
            "Я вічний! Я 4 і я існую скрізь!\n",
            "Моє значення 4\n",
            "Я виходжу за межі циклу!\n"
          ]
        }
      ],
      "source": [
        "for i in range(5):\n",
        "    loop_string = 'Я виходжу за межі циклу!'\n",
        "    print('Я вічний! Я {0} і я існую скрізь!'.format(i))\n",
        "\n",
        "print('Моє значення {0}'.format(i))\n",
        "print(loop_string)"
      ]
    },
    {
      "cell_type": "markdown",
      "metadata": {
        "id": "RMjZe6rTyOU_"
      },
      "source": [
        "Ми також можемо виконувати ітерації по словнику!"
      ]
    },
    {
      "cell_type": "code",
      "execution_count": null,
      "metadata": {
        "id": "1qhy92xdyOU_"
      },
      "outputs": [],
      "source": [
        "my_dict = {'firstname' : 'Inigo', 'lastname' : 'Montoya', 'nemesis' : 'Rugen'}"
      ]
    },
    {
      "cell_type": "code",
      "execution_count": null,
      "metadata": {
        "id": "Ma2yUT8QyOU_",
        "outputId": "7ce48a1c-c04b-48ae-f578-dd6976c1d89f"
      },
      "outputs": [
        {
          "name": "stdout",
          "output_type": "stream",
          "text": [
            "firstname\n",
            "lastname\n",
            "nemesis\n"
          ]
        }
      ],
      "source": [
        "for key in my_dict:\n",
        "    print(key)"
      ]
    },
    {
      "cell_type": "markdown",
      "metadata": {
        "id": "q4iWBLlByOU_"
      },
      "source": [
        "Якщо ми просто перебираємо словник, не роблячи нічого іншого, ми отримуємо лише ключі. Ми можемо або використовувати ключі для отримання значень, як у прикладі:"
      ]
    },
    {
      "cell_type": "code",
      "execution_count": null,
      "metadata": {
        "id": "VrFq8b69yOU_",
        "outputId": "0e7689e4-a59b-4cdb-debc-d67f9dbe1d05"
      },
      "outputs": [
        {
          "name": "stdout",
          "output_type": "stream",
          "text": [
            "Inigo\n",
            "Montoya\n",
            "Rugen\n"
          ]
        }
      ],
      "source": [
        "for key in my_dict:\n",
        "    print(my_dict[key])"
      ]
    },
    {
      "cell_type": "markdown",
      "metadata": {
        "id": "NiIhUrvfyOU_"
      },
      "source": [
        "Або ми можемо використовувати функцію `items()`, щоб отримати і ключ, і значення одночасно"
      ]
    },
    {
      "cell_type": "code",
      "execution_count": null,
      "metadata": {
        "id": "Nwes-l87yOVA",
        "outputId": "e2026b5a-e238-41c9-b984-8f54e4b1b626"
      },
      "outputs": [
        {
          "name": "stdout",
          "output_type": "stream",
          "text": [
            "firstname : Inigo\n",
            "lastname : Montoya\n",
            "nemesis : Rugen\n"
          ]
        }
      ],
      "source": [
        "for key, value in my_dict.items():\n",
        "    print(key, ':', value)"
      ]
    },
    {
      "cell_type": "markdown",
      "metadata": {
        "id": "mWCbrBgCyOVA"
      },
      "source": [
        "Функція `items` створює кортеж з кожної пари ключ-значення, а цикл for розпаковує цей кортеж в `ключ, значення` при кожному окремому виконанні циклу!"
      ]
    },
    {
      "cell_type": "markdown",
      "metadata": {
        "id": "36sq_0ugyOVA"
      },
      "source": [
        "## Функції\n",
        "\n",
        "Функція-це багаторазовий блок коду, який ви можете викликати повторно для виконання обчислень, виведення даних або дійсно робити все, що завгодно. Це один з ключових аспектів використання мови програмування. Щоб додати до вбудованих функцій у Python, ви можете визначити свої власні!"
      ]
    },
    {
      "cell_type": "code",
      "execution_count": null,
      "metadata": {
        "id": "VJvcOOV1yOVA",
        "outputId": "42c51df9-b46e-4f9c-da43-43bcbf07ed17"
      },
      "outputs": [
        {
          "name": "stdout",
          "output_type": "stream",
          "text": [
            "Hello, world!\n"
          ]
        }
      ],
      "source": [
        "def hello_world():\n",
        "    \"\"\" Виводить Hello, world! \"\"\"\n",
        "    print('Hello, world!')\n",
        "\n",
        "hello_world()"
      ]
    },
    {
      "cell_type": "code",
      "execution_count": null,
      "metadata": {
        "id": "Fnb0S2oOyOVA",
        "outputId": "04e01476-c022-4d50-be8c-7e6570311969"
      },
      "outputs": [
        {
          "name": "stdout",
          "output_type": "stream",
          "text": [
            "Hello, world!\n",
            "Hello, world!\n",
            "Hello, world!\n",
            "Hello, world!\n",
            "Hello, world!\n"
          ]
        }
      ],
      "source": [
        "for i in range(5):\n",
        "    hello_world()"
      ]
    },
    {
      "cell_type": "markdown",
      "metadata": {
        "id": "H27-F8dgyOVB"
      },
      "source": [
        "Функції визначаються за допомогою `def`, імені функції, списку параметрів та двокрапки. Все, що вказано з відступом нижче двокрапки, буде включено у визначення функції.\n",
        "\n",
        "Ми можемо змусити наші функції робити все, що ви можете зробити зі звичайним блоком коду. Наприклад, наша функція `hello_world()` виводить рядок при кожному його виклику. Якщо ми хочемо зберегти значення, обчислене функцією, ми можемо визначити функцію так, щоб вона повертала (`return`) потрібне нам значення. Це дуже важлива особливість функцій, оскільки будь-яка змінна, визначена виключно всередині функції, не буде існувати поза нею."
      ]
    },
    {
      "cell_type": "code",
      "execution_count": null,
      "metadata": {
        "id": "MsftVpP-yOVB",
        "outputId": "c10eb603-2da3-44d0-f889-0c4fa94e854f"
      },
      "outputs": [
        {
          "name": "stdout",
          "output_type": "stream",
          "text": [
            "Я тут застряг!\n"
          ]
        }
      ],
      "source": [
        "def see_the_scope():\n",
        "    return \"Я тут застряг!\"\n",
        "\n",
        "print(see_the_scope())"
      ]
    },
    {
      "cell_type": "code",
      "execution_count": null,
      "metadata": {
        "id": "vNjmkMX3yOVB",
        "outputId": "9fde24e0-284a-4c43-ed50-81966380df1a"
      },
      "outputs": [
        {
          "name": "stdout",
          "output_type": "stream",
          "text": [
            "Я тут застряг!\n"
          ]
        }
      ],
      "source": [
        "a = see_the_scope()\n",
        "print(a)"
      ]
    },
    {
      "cell_type": "markdown",
      "metadata": {
        "id": "gRDNPh_DyOVB"
      },
      "source": [
        "Область змінної --- це частина блоку коду, де ця змінна прив'язана до певного значення. Функції в Python мають закриту область дії, що робить можливим прямий доступ до змінних лише всередині цих областей. Якщо ми передамо ці значення оператору return, ми можемо отримати їх із функції."
      ]
    },
    {
      "cell_type": "code",
      "execution_count": null,
      "metadata": {
        "id": "U_ho2H4OyOVC",
        "outputId": "2e612199-1686-4ad0-ac56-65c2b1efc552"
      },
      "outputs": [
        {
          "name": "stdout",
          "output_type": "stream",
          "text": [
            "Anything you can do I can do better!\n"
          ]
        }
      ],
      "source": [
        "def free_the_scope():\n",
        "    in_function_string = \"Anything you can do I can do better!\"\n",
        "    return in_function_string\n",
        "my_string = free_the_scope()\n",
        "print(my_string)"
      ]
    },
    {
      "cell_type": "markdown",
      "metadata": {
        "id": "_Uh6-hGwyOVC"
      },
      "source": [
        "Так само, як ми можемо отримувати значення з функції, ми також можемо розміщувати значення у функції. Ми робимо це, визначаючи нашу функцію з параметрами."
      ]
    },
    {
      "cell_type": "code",
      "execution_count": null,
      "metadata": {
        "id": "v1kTnEFhyOVC",
        "outputId": "683bfd93-db79-461f-dd00-295c87132779"
      },
      "outputs": [
        {
          "name": "stdout",
          "output_type": "stream",
          "text": [
            "4\n",
            "20\n"
          ]
        }
      ],
      "source": [
        "def multiply_by_five(x):\n",
        "    \"\"\" Множимо вхідне значення на 5 \"\"\"\n",
        "    return x * 5\n",
        "\n",
        "n = 4\n",
        "print(n)\n",
        "print(multiply_by_five(n))"
      ]
    },
    {
      "cell_type": "markdown",
      "metadata": {
        "id": "86xiOmCIyOVD"
      },
      "source": [
        "У цьому прикладі у нас був лише один параметр для нашої функції, `x`. Ми можемо легко ввести додаткові параметри, розділивши їх комами."
      ]
    },
    {
      "cell_type": "code",
      "execution_count": null,
      "metadata": {
        "id": "F23lweRSyOVD"
      },
      "outputs": [],
      "source": [
        "def calculate_area(length, width):\n",
        "    \"\"\" Визначаємо площу прямокутника \"\"\"\n",
        "    return length * width"
      ]
    },
    {
      "cell_type": "code",
      "execution_count": null,
      "metadata": {
        "id": "n6g4Z7BayOVD",
        "outputId": "6761c03b-e84b-42ec-f38b-3c9ab49d9bf5"
      },
      "outputs": [
        {
          "name": "stdout",
          "output_type": "stream",
          "text": [
            "Area:  50\n",
            "Length:  5\n",
            "Width:  10\n"
          ]
        }
      ],
      "source": [
        "l = 5\n",
        "w = 10\n",
        "print('Area: ', calculate_area(l, w))\n",
        "print('Length: ', l)\n",
        "print('Width: ', w)"
      ]
    },
    {
      "cell_type": "code",
      "execution_count": null,
      "metadata": {
        "id": "vl5gNVzRyOVD"
      },
      "outputs": [],
      "source": [
        "def calculate_volume(length, width, depth):\n",
        "    \"\"\" Визначаємо об'єм прямокутної призми \"\"\"\n",
        "    return length * width * depth"
      ]
    },
    {
      "cell_type": "markdown",
      "metadata": {
        "id": "gsVSn2OFyOVD"
      },
      "source": [
        "Ми можемо визначити функцію так, щоб вона приймала довільну кількість параметрів. Повідомляємо Python, що хочемо цього, використовуючи зірочку (`*`)."
      ]
    },
    {
      "cell_type": "code",
      "execution_count": null,
      "metadata": {
        "id": "tjljmQPvyOVD"
      },
      "outputs": [],
      "source": [
        "def sum_values(*args):\n",
        "    sum_val = 0\n",
        "    for i in args:\n",
        "        sum_val += i\n",
        "    return sum_val"
      ]
    },
    {
      "cell_type": "code",
      "execution_count": null,
      "metadata": {
        "id": "7gcAiM5RyOVE",
        "outputId": "b3caf0d9-fb85-4a3f-c4eb-fafd87e016ef"
      },
      "outputs": [
        {
          "name": "stdout",
          "output_type": "stream",
          "text": [
            "6\n",
            "150\n",
            "343\n"
          ]
        }
      ],
      "source": [
        "print(sum_values(1, 2, 3))\n",
        "print(sum_values(10, 20, 30, 40, 50))\n",
        "print(sum_values(4, 2, 5, 1, 10, 249, 25, 24, 13, 6, 4))"
      ]
    },
    {
      "cell_type": "markdown",
      "metadata": {
        "id": "xCVKC4GOyOVE"
      },
      "source": [
        "Використовуйте `*args` як параметр для вашої функції, коли ви не знаєте, скільки значень можна передати в неї, як у випадку з нашою функцією sum. Зірочка в даному випадку --- це синтаксис, який повідомляє Python, що ви збираєтеся передати довільну кількість параметрів у свою функцію. Ці параметри зберігаються у вигляді кортежу."
      ]
    },
    {
      "cell_type": "code",
      "execution_count": null,
      "metadata": {
        "id": "A6kJx_BLyOVE",
        "outputId": "eacb5b53-a93a-40bf-e694-226ebf246c63"
      },
      "outputs": [
        {
          "name": "stdout",
          "output_type": "stream",
          "text": [
            "<class 'tuple'>\n"
          ]
        }
      ],
      "source": [
        "def test_args(*args):\n",
        "    print(type(args))\n",
        "\n",
        "test_args(1, 2, 3, 4, 5, 6)"
      ]
    },
    {
      "cell_type": "markdown",
      "metadata": {
        "id": "i3B8zbI8yOVE"
      },
      "source": [
        "Наші функції можуть повертати будь-який тип даних. Це дозволяє нам легко створювати функції, що перевіряють умови, які ми можемо захотіти відстежувати.\n",
        "\n",
        "Тут ми визначаємо функцію, яка повертає логічне значення. Ми можемо легко використовувати це в поєднанні з операторами if та іншими ситуаціями, що потребують логічного значення."
      ]
    },
    {
      "cell_type": "code",
      "execution_count": null,
      "metadata": {
        "id": "p0nt3aFcyOVE"
      },
      "outputs": [],
      "source": [
        "def has_a_vowel(word):\n",
        "    \"\"\"\n",
        "    Перевіряємо, чи містить слово голосну\n",
        "\n",
        "    \"\"\"\n",
        "    vowel_list = ['a', 'e', 'i', 'o', 'u']\n",
        "\n",
        "    for vowel in vowel_list:\n",
        "        if vowel in word:\n",
        "            return True\n",
        "\n",
        "    return False"
      ]
    },
    {
      "cell_type": "code",
      "execution_count": null,
      "metadata": {
        "id": "RqFeKBvvyOVF",
        "outputId": "4677890e-a26e-4b3f-98a3-0a79dc6781c9"
      },
      "outputs": [
        {
          "name": "stdout",
          "output_type": "stream",
          "text": [
            "Містить.\n"
          ]
        }
      ],
      "source": [
        "my_word = 'catnapping'\n",
        "if has_a_vowel(my_word):\n",
        "    print('Містить.')\n",
        "else:\n",
        "    print('Не містить.')"
      ]
    },
    {
      "cell_type": "code",
      "execution_count": null,
      "metadata": {
        "id": "vcO82AFKyOVF"
      },
      "outputs": [],
      "source": [
        "def point_maker(x, y):\n",
        "    \"\"\" Групує значення x і y в точку, технічно кортеж \"\"\"\n",
        "    return x, y"
      ]
    },
    {
      "cell_type": "markdown",
      "metadata": {
        "id": "WKOzTw0GyOVF"
      },
      "source": [
        "Ця наведена вище функція повертає впорядковану пару вхідних параметрів, збережених як кортеж."
      ]
    },
    {
      "cell_type": "code",
      "execution_count": null,
      "metadata": {
        "id": "BKPZA4UMyOVF",
        "outputId": "1f71e6d2-178e-47f7-f6e7-6c26e3329c53",
        "scrolled": true
      },
      "outputs": [
        {
          "name": "stdout",
          "output_type": "stream",
          "text": [
            "Кут нахилу між a і b -1.4\n"
          ]
        }
      ],
      "source": [
        "a = point_maker(0, 10)\n",
        "b = point_maker(5, 3)\n",
        "def calculate_slope(point_a, point_b):\n",
        "    \"\"\" Обчислює лінійний нахил між двома точками\"\"\"\n",
        "    return (point_b[1] - point_a[1])/(point_b[0] - point_a[0])\n",
        "print(\"Кут нахилу між a і b {0}\".format(calculate_slope(a, b)))"
      ]
    },
    {
      "cell_type": "markdown",
      "metadata": {
        "id": "iBWQvKYJyOVF"
      },
      "source": [
        "## Подальші кроки\n",
        "\n",
        "Якщо ви хочете заглибитися в матеріал, зверніться до [документації по Python](https://docs.python.org/3/index.html)."
      ]
    }
  ],
  "metadata": {
    "colab": {
      "provenance": []
    },
    "kernelspec": {
      "display_name": "Python 3 (ipykernel)",
      "language": "python",
      "name": "python3"
    },
    "language_info": {
      "codemirror_mode": {
        "name": "ipython",
        "version": 3
      },
      "file_extension": ".py",
      "mimetype": "text/x-python",
      "name": "python",
      "nbconvert_exporter": "python",
      "pygments_lexer": "ipython3",
      "version": "3.9.12"
    }
  },
  "nbformat": 4,
  "nbformat_minor": 0
}
