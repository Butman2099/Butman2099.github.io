{
 "cells": [
  {
   "cell_type": "markdown",
   "metadata": {},
   "source": [
    "# Вступ до Google Colab"
   ]
  },
  {
   "cell_type": "markdown",
   "metadata": {},
   "source": [
    "## Перші кроки роботи в Google Colab"
   ]
  },
  {
   "cell_type": "markdown",
   "metadata": {},
   "source": [
    "Google Colab (Collaboratory) --- це потужна хмарна платформа, яка дозволяє писати і виконувати код на Python через веб-браузер. Вона надає середовище Jupyter Notebook, яке не потребує жодних налаштувань чи інсталяції на вашому локальному комп'ютері. Colab особливо корисний для задач машинного навчання, аналізу даних та наукових обчислень, оскільки пропонує безкоштовний доступ до графічних процесорів та попередньо встановлених бібліотек Python, таких як TensorFlow, Keras, PyTorch, NumPy, Pandas, Matplotlib та Scikit-learn."
   ]
  },
  {
   "cell_type": "markdown",
   "metadata": {},
   "source": [
    "Як програміст, ви можете виконувати наступні дії за допомогою Google Colab:\n",
    "\n",
    "- писати та виконувати код на Python;\n",
    "- документувати свій код;\n",
    "- cтворювати/завантажувати/поширювати Jupyter блокноти;\n",
    "- імпортувати/зберігати блокноти з/на Google Диск;\n",
    "- імпортувати/публікувати блокноти з GitHub;\n",
    "- імпорт зовнішніх наборів даних, наприклад, з Kaggle; \n",
    "- інтеграція PyTorch, TensorFlow, Keras, OpenCV; \n",
    "- безкоштовний хмарний сервіс з безкоштовним графічним процесором. "
   ]
  },
  {
   "cell_type": "markdown",
   "metadata": {},
   "source": [
    "::: {.callout-note}\n",
    "## Примітка\n",
    "\n",
    "Оскільки Colab неявно використовує Google диск для зберігання ваших блокнотів, переконайтеся, що ви увійти до свого облікового запису Google, перш ніж продовжувати роботу\n",
    "\n",
    ":::"
   ]
  },
  {
   "cell_type": "markdown",
   "metadata": {},
   "source": [
    "Відкрийте у своєму браузері наступну URL-адресу: https://colab.research.google.com. У вашому браузері відобразиться наступна сторінка (за умови, що ви увійшли до свого Google акаунта):"
   ]
  },
  {
   "cell_type": "markdown",
   "metadata": {},
   "source": [
    "![](Images\\ap4\\Screenshot_1.jpg){width=80% fig-align=\"center\"}"
   ]
  },
  {
   "cell_type": "markdown",
   "metadata": {},
   "source": [
    "Натисніть на кнопку `+ New notebook` у нижньому лівому куті і з'явиться робочий блокнот, як показано на риунку нижче:"
   ]
  },
  {
   "cell_type": "markdown",
   "metadata": {},
   "source": [
    "::: {layout-ncol=2}\n",
    "![](Images\\ap4\\Screenshot_2.jpg){width=40%}\n",
    "\n",
    "![](Images\\ap4\\Screenshot_3.jpg){width=40%}\n",
    "\n",
    ":::"
   ]
  },
  {
   "cell_type": "markdown",
   "metadata": {},
   "source": [
    "Як ви могли помітити, інтерфейс Colab дуже схожий на інтерфейс Jupyter. Тут є вікно коду, в якому ви можете вводити свій Python код. \n",
    "\n",
    "За замовчуванням Colab блокнот використовує іменування `UntitledXX.ipynb`. Щоб перейменувати блокнот, клацніть на цій назві і введіть бажану назву у вікні редагування, як показано нижче:"
   ]
  },
  {
   "cell_type": "markdown",
   "metadata": {},
   "source": [
    "![](Images\\ap4\\Screenshot_4.jpg){width=80% fig-align=\"center\"}"
   ]
  },
  {
   "cell_type": "markdown",
   "metadata": {},
   "source": [
    "Цей блокнот буде названо як `Перший ноутбук`. Отже, введіть цю назву у вікні редагування і натисніть клавішу **ENTER**. Блокнот встановить ім'я, яке ви зараз ввели."
   ]
  },
  {
   "cell_type": "markdown",
   "metadata": {},
   "source": [
    "Тепер ви введете тривіальний код на Python у вікні коду і виконаєте його. Введіть наступні дві команди у вікні коду:"
   ]
  },
  {
   "cell_type": "markdown",
   "metadata": {},
   "source": [
    "```{python}\n",
    "import time\n",
    "print(time.ctime())\n",
    "```"
   ]
  },
  {
   "cell_type": "markdown",
   "metadata": {},
   "source": [
    "Щоб виконати код, натисніть на стрілку в лівій частині комірки коду:"
   ]
  },
  {
   "cell_type": "markdown",
   "metadata": {},
   "source": [
    "![](Images\\ap4\\Screenshot_5.jpg){width=80% fig-align=\"center\"}"
   ]
  },
  {
   "cell_type": "markdown",
   "metadata": {},
   "source": [
    "Результатом виконання є `Tue Mar  5 13:52:49 2024`. Можна будь-коли очистити вихідні дані, натиснувши на іконку зліва від дисплея вихідних даних:"
   ]
  },
  {
   "cell_type": "markdown",
   "metadata": {},
   "source": [
    "![](Images\\ap4\\Screenshot_6.jpg){width=80% fig-align=\"center\"}"
   ]
  },
  {
   "cell_type": "markdown",
   "metadata": {},
   "source": [
    "Щоб додати більше комірок для написання коду, виберіть наступні пункти меню: "
   ]
  },
  {
   "cell_type": "markdown",
   "metadata": {},
   "source": [
    "![](Images\\ap4\\Screenshot_7.jpg){width=80% fig-align=\"center\"}"
   ]
  },
  {
   "cell_type": "markdown",
   "metadata": {},
   "source": [
    "У якості альтернативи можно навести вказівник миші на нижню центральну частину клітинки коду. Коли з'являться кнопки **CODE** і **TEXT**, натисність на **CODE**, щоб додати нову клітинку. Це показано на знімку екрана нижче:"
   ]
  },
  {
   "cell_type": "markdown",
   "metadata": {},
   "source": [
    "![](Images\\ap4\\Screenshot_8.jpg){width=80% fig-align=\"center\"}"
   ]
  },
  {
   "cell_type": "markdown",
   "metadata": {},
   "source": [
    "Нова комірка коду буде додана під поточною коміркою. Додайте наступні два рядки коду в новостворену комірку:\n",
    "\n",
    "```{python}\n",
    "time.sleep(5)\n",
    "print (time.ctime())\n",
    "```"
   ]
  },
  {
   "cell_type": "markdown",
   "metadata": {},
   "source": [
    "Тепер, якщо ви запустите цю комірку, ви побачите наступний результат:"
   ]
  },
  {
   "cell_type": "markdown",
   "metadata": {},
   "source": [
    "![](Images\\ap4\\Screenshot_9.jpg){width=80% fig-align=\"center\"}"
   ]
  },
  {
   "cell_type": "markdown",
   "metadata": {},
   "source": [
    "Для запуску всіх комірок коду без преривань і покрокового натискання на кожну комірку вручну, виконайте пункт `Runtime \\ Run all` або `Runtime \\ Restart session and run all`:"
   ]
  },
  {
   "cell_type": "markdown",
   "metadata": {},
   "source": [
    "![](Images\\ap4\\Screenshot_10.jpg){width=80% fig-align=\"center\"}"
   ]
  },
  {
   "cell_type": "markdown",
   "metadata": {},
   "source": [
    "Коли ваш блокнот містить велику кількість комірок із кодами, ви можете зіткнутися із ситуаціями, коли ви хочете змінити порядок виконання цих клітинок. Ви можете зробити це, виділивши комірку, яку ви хочете перемістити, і натиснувши на стрілки `Move cell up` або `Move cell down`, як показано на наступному скріншоті:"
   ]
  },
  {
   "cell_type": "markdown",
   "metadata": {},
   "source": [
    "![](Images\\ap4\\Screenshot_11.jpg){width=80% fig-align=\"center\"}"
   ]
  },
  {
   "cell_type": "markdown",
   "metadata": {},
   "source": [
    "Ви можете натискати на стрілки кілька разів, щоб перемістити комірку більше, ніж на одну позицію."
   ]
  },
  {
   "cell_type": "markdown",
   "metadata": {},
   "source": [
    "Під час роботи з вашим проєктом ви могли б створити кілька непотрібних комірок у блокноті. Ви можете легко видалити такі комірки з проєкту одним натиском миші. Натисніть на іконку із символом смітника у верхньому правому куті комірки з кодом для її видалення. Нижче показано приклад:"
   ]
  },
  {
   "cell_type": "markdown",
   "metadata": {},
   "source": [
    "![](Images\\ap4\\Screenshot_12.jpg){width=80% fig-align=\"center\"}"
   ]
  },
  {
   "cell_type": "markdown",
   "metadata": {},
   "source": [
    "Для збереження вашого проєкту у вас є декілька опцій:\n",
    "\n",
    "- зберегти його на сторінці GitHub; \n",
    "- зберегти його у вашому Google диску; \n",
    "- завантажити його на ваше локальне середовище у форматі `.ipynb`; \n",
    "- зберегти його у хмарному середовищі Google Colab. \n",
    "\n",
    "Для використання переваг усіх чотирьох опцій у меню даного середовище існує вкладка `File`, де можна натиснути на слідуючі пункти:\n",
    "\n",
    "- `Save a copy in Drive` для збереження на Google диску; \n",
    "- `Save a copy in GitHub` для збереження в репозитарії GitHub; \n",
    "- `Save` для збереження копії у хмарному середовищі; \n",
    "- `Download` для збереження у форматі `.ipynb` або класичному Python форматі `.py`. \n",
    "\n",
    "Дані опції проілюстровано на скріншоті нижче:"
   ]
  },
  {
   "cell_type": "markdown",
   "metadata": {},
   "source": [
    "![](Images\\ap4\\Screenshot_13.jpg){width=80% fig-align=\"center\"}"
   ]
  },
  {
   "cell_type": "markdown",
   "metadata": {},
   "source": [
    "У подальшому вам може знадобитись, наприклад, працювати не з власними файлами з абсолютного нуля, а, наприклад, уже готовими Jupyter блокнотами. Для імпорту вже готових файлів треба перейти до `File \\ Open notebook ` або `File \\ Upload notebook`. Якщо ви обираєте пункт `File \\ Open notebook `, тоді це означатиме, що ви бажаєте відкрити робочий блокнот із хмарного середовище або вашого Google диску. Якщо ви натискаєте `File \\ Upload notebook`, тоді це означатиме, що ви хочете завантажити готовий блокнот із вашого персонального комп'ютера. Нижче представлено скріншот даних опцій:"
   ]
  },
  {
   "cell_type": "markdown",
   "metadata": {},
   "source": [
    "![](Images\\ap4\\Screenshot_14.jpg){width=80% fig-align=\"center\"}"
   ]
  },
  {
   "cell_type": "markdown",
   "metadata": {},
   "source": [
    "Завантажимо готовий блокнот однієї з лабораторних із моделювання в Python. Для цього натиснемо `File \\ Upload notebook`. Далі нам треба буде натиснути на кнопку **Browse** та обрати потрібний нам файл, натиснувши на клавішу **Open**:"
   ]
  },
  {
   "cell_type": "markdown",
   "metadata": {},
   "source": [
    "::: {layout-ncol=2}\n",
    "![](Images\\ap4\\Screenshot_15.jpg){width=40%}\n",
    "\n",
    "![](Images\\ap4\\Screenshot_16.jpg){width=40%}\n",
    "\n",
    ":::"
   ]
  },
  {
   "cell_type": "markdown",
   "metadata": {},
   "source": [
    "В якості прикладу ми обрали першу лабораторну роботу. Після завантаження цього файлу до Google Colab має з'явитись наступне вікно: "
   ]
  },
  {
   "cell_type": "markdown",
   "metadata": {},
   "source": [
    "![](Images\\ap4\\Screenshot_17.jpg){width=80% fig-align=\"center\"}"
   ]
  },
  {
   "cell_type": "markdown",
   "metadata": {},
   "source": [
    "Colab, як і Jupyter Notebook, має два типи комірок: текстові та кодові. Текстові клітинки форматуються за допомогою простої мови розмітки Markdown.\n",
    "\n",
    "Щоб побачити джерело розмітки, двічі клацніть текстову комірку, при цьому буде показано як джерело розмітки, так і відображену версію. Над джерелом розмітки знаходиться панель інструментів для полегшення редагування."
   ]
  },
  {
   "cell_type": "markdown",
   "metadata": {},
   "source": [
    "![](Images\\ap4\\Screenshot_18.jpg){width=80% fig-align=\"center\"}"
   ]
  },
  {
   "cell_type": "markdown",
   "metadata": {},
   "source": [
    "## Синтаксис Markdown\n",
    "\n",
    "Markdown | Вид\n",
    "--- | ---\n",
    "`**жирний текст**` | **жирний текст**\n",
    "`*курсивний текст*` або `_курсивний текст_` | *курсивний текст*\n",
    "`` `Виділення` `` | `Виділення`\n",
    "`~~прочерк~~` | ~~прочерк~~\n",
    "`[Посилання](https://www.google.com)` | [Посилання](https://www.google.com)\n",
    "`![Рисунок](https://www.google.com/images/rss.png)` | ![Рисунок](https://www.google.com/images/rss.png)\n",
    "\n",
    "---\n",
    "\n",
    "Заголовки генеруються у вигляді назв секцій.\n",
    "\n",
    "```{markdown}\n",
    "# Секція 1\n",
    "# Секція 2\n",
    "## Під-секція для Секції 2\n",
    "### Під-секція під під-секцією під Секцією 2\n",
    "# Секція 3\n",
    "```\n",
    "\n",
    "Зміст, доступний у лівій частині Colab, заповнюється з використанням не більше однієї назви розділу з кожної текстової комірки.\n",
    "\n",
    "---\n",
    "\n",
    "```{markdown}\n",
    ">Один рівень відступу\n",
    "```\n",
    "\n",
    ">Один рівень відступу\n",
    "\n",
    "\n",
    "```{markdown}\n",
    ">>Два рівні відступу\n",
    "```\n",
    "\n",
    ">>Два рівні відступу\n",
    "\n",
    "---\n",
    "\n",
    "Блоки коду\n",
    "\n",
    "````{markdown}\n",
    "```{python}\n",
    "print(\"a\")\n",
    "```\n",
    "````\n",
    "\n",
    "```{python}\n",
    "print(\"a\")\n",
    "```\n",
    "\n",
    "---\n",
    "\n",
    "Упорядковані списки:\n",
    "```{markdown}\n",
    "1. Один\n",
    "1. Два\n",
    "1. Три\n",
    "```\n",
    "\n",
    "1. Один\n",
    "1. Два\n",
    "1. Три\n",
    "\n",
    "---\n",
    "\n",
    "Невпорядковані списки:\n",
    "```{markdown}\n",
    "* Один\n",
    "* Два\n",
    "* Три\n",
    "```\n",
    "\n",
    "* Один\n",
    "* Два\n",
    "* Три\n",
    "\n",
    "---\n",
    "\n",
    "Рівняння:\n",
    "\n",
    "```{markdown}\n",
    "$y=x^2$\n",
    "\n",
    "$e^{i\\pi} + 1 = 0$\n",
    "\n",
    "$e^x=\\sum_{i=0}^\\infty \\frac{1}{i!}x^i$\n",
    "\n",
    "$\\frac{n!}{k!(n-k)!} = {n \\choose k}$\n",
    "\n",
    "$A_{m,n} =\n",
    " \\begin{pmatrix}\n",
    "  a_{1,1} & a_{1,2} & \\cdots & a_{1,n} \\\\\n",
    "  a_{2,1} & a_{2,2} & \\cdots & a_{2,n} \\\\\n",
    "  \\vdots  & \\vdots  & \\ddots & \\vdots  \\\\\n",
    "  a_{m,1} & a_{m,2} & \\cdots & a_{m,n}\n",
    " \\end{pmatrix}$\n",
    "```\n",
    "\n",
    "\n",
    "$y=x^2$\n",
    "\n",
    "$e^{i\\pi} + 1 = 0$\n",
    "\n",
    "$e^x=\\sum_{i=0}^\\infty \\frac{1}{i!}x^i$\n",
    "\n",
    "$\\frac{n!}{k!(n-k)!} = {n \\choose k}$\n",
    "\n",
    "$A_{m,n} =\n",
    " \\begin{pmatrix}\n",
    "  a_{1,1} & a_{1,2} & \\cdots & a_{1,n} \\\\\n",
    "  a_{2,1} & a_{2,2} & \\cdots & a_{2,n} \\\\\n",
    "  \\vdots  & \\vdots  & \\ddots & \\vdots  \\\\\n",
    "  a_{m,1} & a_{m,2} & \\cdots & a_{m,n}\n",
    " \\end{pmatrix}\n",
    "$\n",
    "\n",
    "---\n",
    "\n",
    "Таблиці:\n",
    "\n",
    "```{markdown}\n",
    "Назва першої колонки  | Назва другої колонки \n",
    "----------------------|------------------\n",
    "Ряд 1, Колонка 1      | Ряд 1, Колонка 2 \n",
    "Ряд 2, Колонка 1      | Ряд 2, Колонка 2 \n",
    "\n",
    "```\n",
    "\n",
    "Назва першої колонки  | Назва другої колонки \n",
    "----------------------|------------------\n",
    "Ряд 1, Колонка 1      | Ряд 1, Колонка 2 \n",
    "Ряд 2, Колонка 1      | Ряд 2, Колонка 2 \n",
    "\n",
    "---\n",
    "\n",
    "Горизонтальне розділювання:\n",
    "```{markdown}\n",
    "---\n",
    "```\n",
    "\n",
    "---\n"
   ]
  },
  {
   "cell_type": "markdown",
   "metadata": {},
   "source": [
    "## Різниця між Colab Markdown та іншими діалектами Mardown"
   ]
  },
  {
   "cell_type": "markdown",
   "metadata": {},
   "source": [
    "Colab використовує [marked.js](https://github.com/chjj/marked) і тому схожий, але не зовсім ідентичний Markdown, що використовується Jupyter і Github.\n",
    "\n",
    "Colab підтримує (MathJax) $\\text{LaTeX}$ рівняння, як і Jupyter, але не дозволяє HTML-теги в Markdown. Colab не підтримує деякі доповнення GitHub, такі як смайлики і прапорці.\n",
    "\n",
    "Якщо у блокноті Colab необхідно включити HTML, зверніться до [%%html magic](https://colab.research.google.com/notebooks/basic_features_overview.ipynb?hl=en#scrollTo=KR921S_OQSHG)."
   ]
  },
  {
   "cell_type": "markdown",
   "metadata": {},
   "source": [
    "## Встановлення бібліотек, яких немає у Google Colab\n",
    "\n",
    "Щоб імпортувати бібліотеку, якої за замовчуванням немає у Collaboratory, ви можете скористатися командами `!pip install` або `!apt-get install`."
   ]
  },
  {
   "cell_type": "markdown",
   "metadata": {},
   "source": [
    "![](Images\\ap4\\Screenshot_19.jpg){width=80% fig-align=\"center\"}"
   ]
  },
  {
   "cell_type": "markdown",
   "metadata": {},
   "source": [
    "Нижче представлено приклад встановлення одразу чотирьох бібліотек: [`matplotlib`](https://matplotlib.org), [`pandas`](https://pandas.pydata.org), [`numpy`](https://numpy.org) і [`neurokit2`](https://neuropsychology.github.io/NeuroKit/): "
   ]
  },
  {
   "cell_type": "markdown",
   "metadata": {},
   "source": [
    "![](Images\\ap4\\Screenshot_20.jpg){width=80% fig-align=\"center\"}"
   ]
  },
  {
   "cell_type": "markdown",
   "metadata": {},
   "source": [
    "::: {.callout-important}\n",
    "## Примітка по встановленню бібліотек\n",
    "\n",
    "Кожного разу, коли ви відкриваєте Colab блокнот, ви розпочинаєте нову робочу сесію з чистого аркуша. Тобто, всі файли та бібліотеки, які ви завантажували під час попередньої сесії, будуть очищені. Тому при роботі з кожним новим файлом вам треба буде завантажувати всі необхідні бібліотеки із самого початку. У цьому й полягає головний недолік Google Colab у порівнянні з Jupyter Notebook \n",
    "\n",
    ":::"
   ]
  },
  {
   "cell_type": "markdown",
   "metadata": {},
   "source": [
    "## Імпорт власних файлів до Google Colab"
   ]
  },
  {
   "cell_type": "markdown",
   "metadata": {},
   "source": [
    "Буває так, що виникає необхідність у роботі локальними файлами у форматі `.txt` або `.csv`, які можуть містити результати ваших власних вимірювань. Тоді потребується імпортувати їх до хмарного середовища Colab. Для цього переходимо до панелі меню з лівої сторони вашого середовища й натискаємо на пункт `Files`:"
   ]
  },
  {
   "cell_type": "markdown",
   "metadata": {},
   "source": [
    "![](Images\\ap4\\Screenshot_21.jpg){width=80% fig-align=\"center\"}"
   ]
  },
  {
   "cell_type": "markdown",
   "metadata": {},
   "source": [
    "Бачимо, що за замовчуванням Google Colab відображає вміст вашого хмарного середовища та перелік системних файлів. Для імпорту власного файлу треба натиснути на перший значок із чотирьох, що зв'явилися в розгорнотому вікна. Потрібне для натиску значок виділений на скріншоті нижче:"
   ]
  },
  {
   "cell_type": "markdown",
   "metadata": {},
   "source": [
    "![](Images\\ap4\\Screenshot_22.jpg){width=80% fig-align=\"center\"}"
   ]
  },
  {
   "cell_type": "markdown",
   "metadata": {},
   "source": [
    "Після натиску вибираємо потрібний для роботи файл і натискаємо `Open`. У списку файлів має з'явитися обраний нами файл:"
   ]
  },
  {
   "cell_type": "markdown",
   "metadata": {},
   "source": [
    "::: {layout-ncol=2}\n",
    "![](Images\\ap4\\Screenshot_23.jpg){width=40%}\n",
    "\n",
    "![](Images\\ap4\\Screenshot_24.jpg){width=40%}\n",
    "\n",
    ":::"
   ]
  },
  {
   "cell_type": "markdown",
   "metadata": {},
   "source": [
    "Якщо, наприклад, потребується зчитати даний файл із використанням методу `pd.read_csv()` бібліотеки Pandas, нам треба скопіювати шлях до зчитаного файлу. Для цього треба виділити файл курсивом миші й натиснути на трикрапку. Після там має з'явитися пункт `Copy path`. Натиснувши на нього, можна підставляти шлях до методу змінної `path`, яка далі підставляється до методу `pd.read_csv()`:"
   ]
  },
  {
   "cell_type": "markdown",
   "metadata": {},
   "source": [
    "::: {layout-ncol=2}\n",
    "![](Images\\ap4\\Screenshot_25.jpg){width=40%}\n",
    "\n",
    "![](Images\\ap4\\Screenshot_26.jpg){width=40%}\n",
    "\n",
    ":::"
   ]
  }
 ],
 "metadata": {
  "kernelspec": {
   "display_name": "base",
   "language": "python",
   "name": "python3"
  },
  "language_info": {
   "name": "python",
   "version": "3.8.16"
  }
 },
 "nbformat": 4,
 "nbformat_minor": 2
}
