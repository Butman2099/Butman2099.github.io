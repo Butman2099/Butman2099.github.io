{
 "cells": [
  {
   "cell_type": "markdown",
   "metadata": {},
   "source": [
    "# Інструкція зі встановлення Anaconda Navigator"
   ]
  },
  {
   "cell_type": "markdown",
   "metadata": {},
   "source": [
    "1. Відвідайте сторінку Anaconda за наступним [посиланням](https://www.anaconda.com/download/).\n",
    "Ви маєте побачити наступне зображення:"
   ]
  },
  {
   "cell_type": "markdown",
   "metadata": {},
   "source": [
    "![](Images\\ap1\\Screenshot_1.jpg){width=80% fig-align=\"center\"}"
   ]
  },
  {
   "cell_type": "markdown",
   "metadata": {},
   "source": [
    "2. Натискаємо на кнопку **Download**:"
   ]
  },
  {
   "cell_type": "markdown",
   "metadata": {},
   "source": [
    "![](Images\\ap1\\Screenshot_2.jpg){width=80% fig-align=\"center\"}"
   ]
  },
  {
   "cell_type": "markdown",
   "metadata": {},
   "source": [
    "3. Якщо ви набиратимете **anaconda** у пошуковому рядку, тоді потрібно перейти за наступним посиланням, що має з'явитися найпершим: "
   ]
  },
  {
   "cell_type": "markdown",
   "metadata": {},
   "source": [
    "![](Images\\ap1\\Screenshot_3.jpg){fig-align=\"center\"}\n",
    "\n",
    "Перейшовши по виділеному посиланню, маєте побачити наступну сторінку: \n",
    "\n",
    "![](Images\\ap1\\Screenshot_4.jpg){width=80% fig-align=\"center\"}\n",
    "\n",
    "Натиснемо на кнопку **Download**, щоб розпочати встановлення. "
   ]
  },
  {
   "cell_type": "markdown",
   "metadata": {},
   "source": [
    "4. З'явиться вікно наступного виду і запропонує зберегти файл там, де це потрібно: "
   ]
  },
  {
   "cell_type": "markdown",
   "metadata": {},
   "source": [
    "![](Images\\ap1\\Screenshot_5.jpg){width=80% fig-align=\"center\"}"
   ]
  },
  {
   "cell_type": "markdown",
   "metadata": {},
   "source": [
    "5. Натискаємо на клавішу **Next**:"
   ]
  },
  {
   "cell_type": "markdown",
   "metadata": {},
   "source": [
    "![](Images\\ap1\\Screenshot_6.jpg){fig-align=\"center\"}"
   ]
  },
  {
   "cell_type": "markdown",
   "metadata": {},
   "source": [
    "6. Уважно читаємо ліцензійну угоду та натискаємо клавішу **I Agree**:"
   ]
  },
  {
   "cell_type": "markdown",
   "metadata": {},
   "source": [
    "![](Images\\ap1\\Screenshot_7.jpg){fig-align=\"center\"}"
   ]
  },
  {
   "cell_type": "markdown",
   "metadata": {},
   "source": [
    "7. Далі, якщо ви не перебуваєте у команді розробників, і ви єдина людина, хто буде користуватися Anaconda --- **Just me** ваш вибір: "
   ]
  },
  {
   "cell_type": "markdown",
   "metadata": {},
   "source": [
    "![](Images\\ap1\\Screenshot_8.jpg){fig-align=\"center\"}\n",
    "\n",
    "Натискаємо **Next**."
   ]
  },
  {
   "cell_type": "markdown",
   "metadata": {},
   "source": [
    "8. На наступному кроці пропонується обрати папку, до якої буде встановлено дистрибутив Anaconda. Бажано, щоб шлях до папки не містив кирилиці. Можна залишити шлях за замовчуванням. Ми натиснемо на **Browse**. Далі, обираємо зручний для нас диск та натискаємо **Создать папку**. Таким чином ми створимо в нашому диску папку з назвою anaconda до якої і буде завантажено Anaconda. "
   ]
  },
  {
   "cell_type": "markdown",
   "metadata": {},
   "source": [
    "::: {layout=\"[[1,1], [1,1]]\"}\n",
    "![](Images\\ap1\\Screenshot_9_1.jpg){width=40%}\n",
    "\n",
    "![](Images\\ap1\\Screenshot_9_2.jpg){width=40%}\n",
    "\n",
    "![](Images\\ap1\\Screenshot_9_3.jpg){width=40%}\n",
    "\n",
    "![](Images\\ap1\\Screenshot_9_4.jpg){width=40%}\n",
    ":::"
   ]
  },
  {
   "cell_type": "markdown",
   "metadata": {},
   "source": [
    "9. Наступним кроком буде обрання середовища змінних (the environment variables). \n",
    "\n",
    "   Якщо ви встановлюєте Python вперше, відмітимо **Add Anaconda to my PATH environment variable**. Це дасть вам можливість використовувати Anaconda в командному рядку (або Git bash, cmder, powershell і т.д.). \n",
    "   \n",
    "   Якщо ви вже маєте Python на своєму комп'ютері, тоді прапорець не варто відмічати. Ви зможете запускати Anaconda Navigator або Anaconda Command Prompt (розташовані в меню **Пуск** у розділі Anaconda), якщо потрібно буде запускати Anaconda (ви завжди матимете можливість додати Anaconda до свого шляху пізніше, якщо не встановите цей прапорець).\n",
    "   \n",
    "   На представленій локальній машині нам не треба відмічати прапорець.  "
   ]
  },
  {
   "cell_type": "markdown",
   "metadata": {},
   "source": [
    "::: {layout-ncol=2}\n",
    "![Рекомендований підхід](Images\\ap1\\Screenshot_10_1.jpg){width=40%}\n",
    "\n",
    "![Альтернативний](Images\\ap1\\Screenshot_10_2.jpg){width=40%}\n",
    "\n",
    ":::"
   ]
  },
  {
   "cell_type": "markdown",
   "metadata": {},
   "source": [
    "10. Натискаємо **Install** і чекаємо завершення:"
   ]
  },
  {
   "cell_type": "markdown",
   "metadata": {},
   "source": [
    "::: {layout-ncol=2}\n",
    "![](Images\\ap1\\Screenshot_11_1.jpg){width=40%}\n",
    "\n",
    "![](Images\\ap1\\Screenshot_11_2.jpg){width=40%}\n",
    "\n",
    ":::"
   ]
  },
  {
   "cell_type": "markdown",
   "metadata": {},
   "source": [
    "11. Натискаємо **Next** аж до вікна з подякою за встановлення Anaconda і після натискаємо **Finish**: "
   ]
  },
  {
   "cell_type": "markdown",
   "metadata": {},
   "source": [
    "![](Images\\ap1\\Screenshot_12.jpg){fig-align=\"center\"}"
   ]
  },
  {
   "cell_type": "markdown",
   "metadata": {},
   "source": [
    "12. На наступному кроці потрібно перейти в меню **Пуск** і знайти папку під назвою Anaconda: "
   ]
  },
  {
   "cell_type": "markdown",
   "metadata": {},
   "source": [
    "![](Images\\ap1\\Screenshot_13.jpg){width=80% fig-align=\"center\"}"
   ]
  },
  {
   "cell_type": "markdown",
   "metadata": {},
   "source": [
    "13. Розгорнувши папку можна побачити цікаві для нас іконки: "
   ]
  },
  {
   "cell_type": "markdown",
   "metadata": {},
   "source": [
    "![](Images\\ap1\\Screenshot_14.jpg){width=80% fig-align=\"center\"}\n",
    "\n",
    "На зазначеній вище фотографії можна бачити декілька ярликів Anaconda Navigator, Anaconda Powershell Promt, Anaconda Promt та Jupyter Notebook з різними найменуваннями **anaconda** та **anaconda3**. Це тому, що на представленій локальній машині попередньо було встановлено Anaconda, але на іншому локальному диску. Якщо ви встановлюєте Anaconda вперше чи перевстановлюєте, тоді ви матимете у 2 рази менше ярликів. "
   ]
  },
  {
   "cell_type": "markdown",
   "metadata": {},
   "source": [
    "14. Натиснувши на Anaconda Navigator, потрапляємо до середовища, що пропонує різноманітні інструменти для аналізу даних. Для подальшої роботи нам знадобиться лише Jupyter Notebook: "
   ]
  },
  {
   "cell_type": "markdown",
   "metadata": {},
   "source": [
    "![](Images\\ap1\\Screenshot_15.jpg){width=80% fig-align=\"center\"}\n",
    "\n",
    "Натискаємо на **Launch** та потрапляємо до середовища Jupyter (кореневої папки до якої було встановлено anaconda): \n",
    "\n",
    "![](Images\\ap1\\Screenshot_16.jpg){width=80% fig-align=\"center\"}\n",
    "\n",
    "У верхньому лівому кутку буде знаходитись значок **New**. Спочатку натискаємо на нього і потім на **Python 3**. Має створитися відповідний Notebook у якому можна писати код: \n",
    "\n",
    "![](Images\\ap1\\Screenshot_17.jpg){width=80%}"
   ]
  },
  {
   "cell_type": "markdown",
   "metadata": {},
   "source": [
    "15. Окрім цього, в меню пуск можна натиснути на значок Jupyter Notebook та одразу перейти до роботи: "
   ]
  },
  {
   "cell_type": "markdown",
   "metadata": {},
   "source": [
    "![](Images\\ap1\\Screenshot_18.jpg){width=80% fig-align=\"center\"}"
   ]
  },
  {
   "cell_type": "markdown",
   "metadata": {},
   "source": [
    "16. Натиснувши на Anaconda Powershell Promt або Anaconda Promt можна перейти до командного рядка, представленого дистрибутивом Anaconda. З його допомогою можна докачати необхідні модулі або запустити необхідний інструмент, що представляє Anaconda. Запустимо Jupyter Notebook за допомогою команди **`jupyter notebook`**: "
   ]
  },
  {
   "cell_type": "markdown",
   "metadata": {},
   "source": [
    "![](Images\\ap1\\Screenshot_19_1.jpg){width=80% fig-align=\"center\"}"
   ]
  },
  {
   "cell_type": "markdown",
   "metadata": {},
   "source": [
    "![](Images\\ap1\\Screenshot_19_2.jpg){width=80% fig-align=\"center\"}"
   ]
  }
 ],
 "metadata": {
  "language_info": {
   "name": "python"
  },
  "orig_nbformat": 4
 },
 "nbformat": 4,
 "nbformat_minor": 2
}
